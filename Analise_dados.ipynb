{
 "cells": [
  {
   "cell_type": "code",
   "execution_count": 3,
   "metadata": {
    "executionInfo": {
     "elapsed": 238,
     "status": "ok",
     "timestamp": 1672133020516,
     "user": {
      "displayName": "Gilberto Uehara",
      "userId": "11139280861294473555"
     },
     "user_tz": 180
    },
    "id": "1nPva-vCApfQ"
   },
   "outputs": [],
   "source": [
    "#Importando bibliotecas\n",
    "import pandas as pd\n",
    "import matplotlib.pyplot as plt\n",
    "plt.style.use(\"seaborn\")"
   ]
  },
  {
   "cell_type": "code",
   "execution_count": 4,
   "metadata": {
    "colab": {
     "base_uri": "https://localhost:8080/",
     "height": 76
    },
    "executionInfo": {
     "elapsed": 87191,
     "status": "ok",
     "timestamp": 1672133107966,
     "user": {
      "displayName": "Gilberto Uehara",
      "userId": "11139280861294473555"
     },
     "user_tz": 180
    },
    "id": "eMPBH7bBA0t2",
    "outputId": "6a0ad711-444d-4b3c-c18c-fbad2d490eac"
   },
   "outputs": [
    {
     "data": {
      "text/html": [
       "\n",
       "     <input type=\"file\" id=\"files-8a12afd6-a3e3-4291-83ff-2270d79cd5ed\" name=\"files[]\" multiple disabled\n",
       "        style=\"border:none\" />\n",
       "     <output id=\"result-8a12afd6-a3e3-4291-83ff-2270d79cd5ed\">\n",
       "      Upload widget is only available when the cell has been executed in the\n",
       "      current browser session. Please rerun this cell to enable.\n",
       "      </output>\n",
       "      <script>// Copyright 2017 Google LLC\n",
       "//\n",
       "// Licensed under the Apache License, Version 2.0 (the \"License\");\n",
       "// you may not use this file except in compliance with the License.\n",
       "// You may obtain a copy of the License at\n",
       "//\n",
       "//      http://www.apache.org/licenses/LICENSE-2.0\n",
       "//\n",
       "// Unless required by applicable law or agreed to in writing, software\n",
       "// distributed under the License is distributed on an \"AS IS\" BASIS,\n",
       "// WITHOUT WARRANTIES OR CONDITIONS OF ANY KIND, either express or implied.\n",
       "// See the License for the specific language governing permissions and\n",
       "// limitations under the License.\n",
       "\n",
       "/**\n",
       " * @fileoverview Helpers for google.colab Python module.\n",
       " */\n",
       "(function(scope) {\n",
       "function span(text, styleAttributes = {}) {\n",
       "  const element = document.createElement('span');\n",
       "  element.textContent = text;\n",
       "  for (const key of Object.keys(styleAttributes)) {\n",
       "    element.style[key] = styleAttributes[key];\n",
       "  }\n",
       "  return element;\n",
       "}\n",
       "\n",
       "// Max number of bytes which will be uploaded at a time.\n",
       "const MAX_PAYLOAD_SIZE = 100 * 1024;\n",
       "\n",
       "function _uploadFiles(inputId, outputId) {\n",
       "  const steps = uploadFilesStep(inputId, outputId);\n",
       "  const outputElement = document.getElementById(outputId);\n",
       "  // Cache steps on the outputElement to make it available for the next call\n",
       "  // to uploadFilesContinue from Python.\n",
       "  outputElement.steps = steps;\n",
       "\n",
       "  return _uploadFilesContinue(outputId);\n",
       "}\n",
       "\n",
       "// This is roughly an async generator (not supported in the browser yet),\n",
       "// where there are multiple asynchronous steps and the Python side is going\n",
       "// to poll for completion of each step.\n",
       "// This uses a Promise to block the python side on completion of each step,\n",
       "// then passes the result of the previous step as the input to the next step.\n",
       "function _uploadFilesContinue(outputId) {\n",
       "  const outputElement = document.getElementById(outputId);\n",
       "  const steps = outputElement.steps;\n",
       "\n",
       "  const next = steps.next(outputElement.lastPromiseValue);\n",
       "  return Promise.resolve(next.value.promise).then((value) => {\n",
       "    // Cache the last promise value to make it available to the next\n",
       "    // step of the generator.\n",
       "    outputElement.lastPromiseValue = value;\n",
       "    return next.value.response;\n",
       "  });\n",
       "}\n",
       "\n",
       "/**\n",
       " * Generator function which is called between each async step of the upload\n",
       " * process.\n",
       " * @param {string} inputId Element ID of the input file picker element.\n",
       " * @param {string} outputId Element ID of the output display.\n",
       " * @return {!Iterable<!Object>} Iterable of next steps.\n",
       " */\n",
       "function* uploadFilesStep(inputId, outputId) {\n",
       "  const inputElement = document.getElementById(inputId);\n",
       "  inputElement.disabled = false;\n",
       "\n",
       "  const outputElement = document.getElementById(outputId);\n",
       "  outputElement.innerHTML = '';\n",
       "\n",
       "  const pickedPromise = new Promise((resolve) => {\n",
       "    inputElement.addEventListener('change', (e) => {\n",
       "      resolve(e.target.files);\n",
       "    });\n",
       "  });\n",
       "\n",
       "  const cancel = document.createElement('button');\n",
       "  inputElement.parentElement.appendChild(cancel);\n",
       "  cancel.textContent = 'Cancel upload';\n",
       "  const cancelPromise = new Promise((resolve) => {\n",
       "    cancel.onclick = () => {\n",
       "      resolve(null);\n",
       "    };\n",
       "  });\n",
       "\n",
       "  // Wait for the user to pick the files.\n",
       "  const files = yield {\n",
       "    promise: Promise.race([pickedPromise, cancelPromise]),\n",
       "    response: {\n",
       "      action: 'starting',\n",
       "    }\n",
       "  };\n",
       "\n",
       "  cancel.remove();\n",
       "\n",
       "  // Disable the input element since further picks are not allowed.\n",
       "  inputElement.disabled = true;\n",
       "\n",
       "  if (!files) {\n",
       "    return {\n",
       "      response: {\n",
       "        action: 'complete',\n",
       "      }\n",
       "    };\n",
       "  }\n",
       "\n",
       "  for (const file of files) {\n",
       "    const li = document.createElement('li');\n",
       "    li.append(span(file.name, {fontWeight: 'bold'}));\n",
       "    li.append(span(\n",
       "        `(${file.type || 'n/a'}) - ${file.size} bytes, ` +\n",
       "        `last modified: ${\n",
       "            file.lastModifiedDate ? file.lastModifiedDate.toLocaleDateString() :\n",
       "                                    'n/a'} - `));\n",
       "    const percent = span('0% done');\n",
       "    li.appendChild(percent);\n",
       "\n",
       "    outputElement.appendChild(li);\n",
       "\n",
       "    const fileDataPromise = new Promise((resolve) => {\n",
       "      const reader = new FileReader();\n",
       "      reader.onload = (e) => {\n",
       "        resolve(e.target.result);\n",
       "      };\n",
       "      reader.readAsArrayBuffer(file);\n",
       "    });\n",
       "    // Wait for the data to be ready.\n",
       "    let fileData = yield {\n",
       "      promise: fileDataPromise,\n",
       "      response: {\n",
       "        action: 'continue',\n",
       "      }\n",
       "    };\n",
       "\n",
       "    // Use a chunked sending to avoid message size limits. See b/62115660.\n",
       "    let position = 0;\n",
       "    do {\n",
       "      const length = Math.min(fileData.byteLength - position, MAX_PAYLOAD_SIZE);\n",
       "      const chunk = new Uint8Array(fileData, position, length);\n",
       "      position += length;\n",
       "\n",
       "      const base64 = btoa(String.fromCharCode.apply(null, chunk));\n",
       "      yield {\n",
       "        response: {\n",
       "          action: 'append',\n",
       "          file: file.name,\n",
       "          data: base64,\n",
       "        },\n",
       "      };\n",
       "\n",
       "      let percentDone = fileData.byteLength === 0 ?\n",
       "          100 :\n",
       "          Math.round((position / fileData.byteLength) * 100);\n",
       "      percent.textContent = `${percentDone}% done`;\n",
       "\n",
       "    } while (position < fileData.byteLength);\n",
       "  }\n",
       "\n",
       "  // All done.\n",
       "  yield {\n",
       "    response: {\n",
       "      action: 'complete',\n",
       "    }\n",
       "  };\n",
       "}\n",
       "\n",
       "scope.google = scope.google || {};\n",
       "scope.google.colab = scope.google.colab || {};\n",
       "scope.google.colab._files = {\n",
       "  _uploadFiles,\n",
       "  _uploadFilesContinue,\n",
       "};\n",
       "})(self);\n",
       "</script> "
      ],
      "text/plain": [
       "<IPython.core.display.HTML object>"
      ]
     },
     "metadata": {},
     "output_type": "display_data"
    },
    {
     "name": "stdout",
     "output_type": "stream",
     "text": [
      "Saving AdventureWorks_Database.xlsx to AdventureWorks_Database.xlsx\n"
     ]
    }
   ],
   "source": [
    "#Upload do Arquivo\n",
    "from google.colab import files\n",
    "arq = files.upload()"
   ]
  },
  {
   "cell_type": "code",
   "execution_count": 5,
   "metadata": {
    "executionInfo": {
     "elapsed": 12534,
     "status": "ok",
     "timestamp": 1672133120497,
     "user": {
      "displayName": "Gilberto Uehara",
      "userId": "11139280861294473555"
     },
     "user_tz": 180
    },
    "id": "6mF38lrRBEGE"
   },
   "outputs": [],
   "source": [
    "df = pd.read_excel(\"AdventureWorks_Database.xlsx\", sheet_name=3)"
   ]
  },
  {
   "cell_type": "code",
   "execution_count": 6,
   "metadata": {
    "colab": {
     "base_uri": "https://localhost:8080/",
     "height": 206
    },
    "executionInfo": {
     "elapsed": 27,
     "status": "ok",
     "timestamp": 1672133120499,
     "user": {
      "displayName": "Gilberto Uehara",
      "userId": "11139280861294473555"
     },
     "user_tz": 180
    },
    "id": "fEX-l0jnpQId",
    "outputId": "73659f45-9ddc-498e-e354-46c6d8d50c20"
   },
   "outputs": [
    {
     "data": {
      "text/html": [
       "\n",
       "  <div id=\"df-7f6193ca-6209-4e6d-9798-c49a4f5aec65\">\n",
       "    <div class=\"colab-df-container\">\n",
       "      <div>\n",
       "<style scoped>\n",
       "    .dataframe tbody tr th:only-of-type {\n",
       "        vertical-align: middle;\n",
       "    }\n",
       "\n",
       "    .dataframe tbody tr th {\n",
       "        vertical-align: top;\n",
       "    }\n",
       "\n",
       "    .dataframe thead th {\n",
       "        text-align: right;\n",
       "    }\n",
       "</style>\n",
       "<table border=\"1\" class=\"dataframe\">\n",
       "  <thead>\n",
       "    <tr style=\"text-align: right;\">\n",
       "      <th></th>\n",
       "      <th>ProductKey</th>\n",
       "      <th>OrderDate</th>\n",
       "      <th>ShipDate</th>\n",
       "      <th>CustomerKey</th>\n",
       "      <th>PromotionKey</th>\n",
       "      <th>SalesTerritoryKey</th>\n",
       "      <th>SalesOrderNumber</th>\n",
       "      <th>SalesOrderLineNumber</th>\n",
       "      <th>OrderQuantity</th>\n",
       "      <th>UnitPrice</th>\n",
       "      <th>TotalProductCost</th>\n",
       "      <th>SalesAmount</th>\n",
       "      <th>TaxAmt</th>\n",
       "    </tr>\n",
       "  </thead>\n",
       "  <tbody>\n",
       "    <tr>\n",
       "      <th>0</th>\n",
       "      <td>310</td>\n",
       "      <td>2014-01-01</td>\n",
       "      <td>2014-01-08</td>\n",
       "      <td>21768</td>\n",
       "      <td>1</td>\n",
       "      <td>6</td>\n",
       "      <td>SO43697</td>\n",
       "      <td>1</td>\n",
       "      <td>2</td>\n",
       "      <td>1789.1350</td>\n",
       "      <td>2171.2942</td>\n",
       "      <td>3578.2700</td>\n",
       "      <td>286.2616</td>\n",
       "    </tr>\n",
       "    <tr>\n",
       "      <th>1</th>\n",
       "      <td>346</td>\n",
       "      <td>2014-01-01</td>\n",
       "      <td>2014-01-08</td>\n",
       "      <td>28389</td>\n",
       "      <td>1</td>\n",
       "      <td>7</td>\n",
       "      <td>SO43698</td>\n",
       "      <td>1</td>\n",
       "      <td>2</td>\n",
       "      <td>1699.9950</td>\n",
       "      <td>1912.1544</td>\n",
       "      <td>3399.9900</td>\n",
       "      <td>271.9992</td>\n",
       "    </tr>\n",
       "    <tr>\n",
       "      <th>2</th>\n",
       "      <td>346</td>\n",
       "      <td>2014-01-01</td>\n",
       "      <td>2014-01-08</td>\n",
       "      <td>25863</td>\n",
       "      <td>1</td>\n",
       "      <td>1</td>\n",
       "      <td>SO43699</td>\n",
       "      <td>1</td>\n",
       "      <td>2</td>\n",
       "      <td>1699.9950</td>\n",
       "      <td>1912.1544</td>\n",
       "      <td>3399.9900</td>\n",
       "      <td>271.9992</td>\n",
       "    </tr>\n",
       "    <tr>\n",
       "      <th>3</th>\n",
       "      <td>336</td>\n",
       "      <td>2014-01-01</td>\n",
       "      <td>2014-01-08</td>\n",
       "      <td>14501</td>\n",
       "      <td>1</td>\n",
       "      <td>4</td>\n",
       "      <td>SO43700</td>\n",
       "      <td>1</td>\n",
       "      <td>2</td>\n",
       "      <td>349.5491</td>\n",
       "      <td>413.1463</td>\n",
       "      <td>699.0982</td>\n",
       "      <td>55.9279</td>\n",
       "    </tr>\n",
       "    <tr>\n",
       "      <th>4</th>\n",
       "      <td>346</td>\n",
       "      <td>2014-01-01</td>\n",
       "      <td>2014-01-08</td>\n",
       "      <td>11003</td>\n",
       "      <td>1</td>\n",
       "      <td>9</td>\n",
       "      <td>SO43701</td>\n",
       "      <td>1</td>\n",
       "      <td>2</td>\n",
       "      <td>1699.9950</td>\n",
       "      <td>1912.1544</td>\n",
       "      <td>3399.9900</td>\n",
       "      <td>271.9992</td>\n",
       "    </tr>\n",
       "  </tbody>\n",
       "</table>\n",
       "</div>\n",
       "      <button class=\"colab-df-convert\" onclick=\"convertToInteractive('df-7f6193ca-6209-4e6d-9798-c49a4f5aec65')\"\n",
       "              title=\"Convert this dataframe to an interactive table.\"\n",
       "              style=\"display:none;\">\n",
       "        \n",
       "  <svg xmlns=\"http://www.w3.org/2000/svg\" height=\"24px\"viewBox=\"0 0 24 24\"\n",
       "       width=\"24px\">\n",
       "    <path d=\"M0 0h24v24H0V0z\" fill=\"none\"/>\n",
       "    <path d=\"M18.56 5.44l.94 2.06.94-2.06 2.06-.94-2.06-.94-.94-2.06-.94 2.06-2.06.94zm-11 1L8.5 8.5l.94-2.06 2.06-.94-2.06-.94L8.5 2.5l-.94 2.06-2.06.94zm10 10l.94 2.06.94-2.06 2.06-.94-2.06-.94-.94-2.06-.94 2.06-2.06.94z\"/><path d=\"M17.41 7.96l-1.37-1.37c-.4-.4-.92-.59-1.43-.59-.52 0-1.04.2-1.43.59L10.3 9.45l-7.72 7.72c-.78.78-.78 2.05 0 2.83L4 21.41c.39.39.9.59 1.41.59.51 0 1.02-.2 1.41-.59l7.78-7.78 2.81-2.81c.8-.78.8-2.07 0-2.86zM5.41 20L4 18.59l7.72-7.72 1.47 1.35L5.41 20z\"/>\n",
       "  </svg>\n",
       "      </button>\n",
       "      \n",
       "  <style>\n",
       "    .colab-df-container {\n",
       "      display:flex;\n",
       "      flex-wrap:wrap;\n",
       "      gap: 12px;\n",
       "    }\n",
       "\n",
       "    .colab-df-convert {\n",
       "      background-color: #E8F0FE;\n",
       "      border: none;\n",
       "      border-radius: 50%;\n",
       "      cursor: pointer;\n",
       "      display: none;\n",
       "      fill: #1967D2;\n",
       "      height: 32px;\n",
       "      padding: 0 0 0 0;\n",
       "      width: 32px;\n",
       "    }\n",
       "\n",
       "    .colab-df-convert:hover {\n",
       "      background-color: #E2EBFA;\n",
       "      box-shadow: 0px 1px 2px rgba(60, 64, 67, 0.3), 0px 1px 3px 1px rgba(60, 64, 67, 0.15);\n",
       "      fill: #174EA6;\n",
       "    }\n",
       "\n",
       "    [theme=dark] .colab-df-convert {\n",
       "      background-color: #3B4455;\n",
       "      fill: #D2E3FC;\n",
       "    }\n",
       "\n",
       "    [theme=dark] .colab-df-convert:hover {\n",
       "      background-color: #434B5C;\n",
       "      box-shadow: 0px 1px 3px 1px rgba(0, 0, 0, 0.15);\n",
       "      filter: drop-shadow(0px 1px 2px rgba(0, 0, 0, 0.3));\n",
       "      fill: #FFFFFF;\n",
       "    }\n",
       "  </style>\n",
       "\n",
       "      <script>\n",
       "        const buttonEl =\n",
       "          document.querySelector('#df-7f6193ca-6209-4e6d-9798-c49a4f5aec65 button.colab-df-convert');\n",
       "        buttonEl.style.display =\n",
       "          google.colab.kernel.accessAllowed ? 'block' : 'none';\n",
       "\n",
       "        async function convertToInteractive(key) {\n",
       "          const element = document.querySelector('#df-7f6193ca-6209-4e6d-9798-c49a4f5aec65');\n",
       "          const dataTable =\n",
       "            await google.colab.kernel.invokeFunction('convertToInteractive',\n",
       "                                                     [key], {});\n",
       "          if (!dataTable) return;\n",
       "\n",
       "          const docLinkHtml = 'Like what you see? Visit the ' +\n",
       "            '<a target=\"_blank\" href=https://colab.research.google.com/notebooks/data_table.ipynb>data table notebook</a>'\n",
       "            + ' to learn more about interactive tables.';\n",
       "          element.innerHTML = '';\n",
       "          dataTable['output_type'] = 'display_data';\n",
       "          await google.colab.output.renderOutput(dataTable, element);\n",
       "          const docLink = document.createElement('div');\n",
       "          docLink.innerHTML = docLinkHtml;\n",
       "          element.appendChild(docLink);\n",
       "        }\n",
       "      </script>\n",
       "    </div>\n",
       "  </div>\n",
       "  "
      ],
      "text/plain": [
       "   ProductKey  OrderDate   ShipDate  CustomerKey  PromotionKey  \\\n",
       "0         310 2014-01-01 2014-01-08        21768             1   \n",
       "1         346 2014-01-01 2014-01-08        28389             1   \n",
       "2         346 2014-01-01 2014-01-08        25863             1   \n",
       "3         336 2014-01-01 2014-01-08        14501             1   \n",
       "4         346 2014-01-01 2014-01-08        11003             1   \n",
       "\n",
       "   SalesTerritoryKey SalesOrderNumber  SalesOrderLineNumber  OrderQuantity  \\\n",
       "0                  6          SO43697                     1              2   \n",
       "1                  7          SO43698                     1              2   \n",
       "2                  1          SO43699                     1              2   \n",
       "3                  4          SO43700                     1              2   \n",
       "4                  9          SO43701                     1              2   \n",
       "\n",
       "   UnitPrice  TotalProductCost  SalesAmount    TaxAmt  \n",
       "0  1789.1350         2171.2942    3578.2700  286.2616  \n",
       "1  1699.9950         1912.1544    3399.9900  271.9992  \n",
       "2  1699.9950         1912.1544    3399.9900  271.9992  \n",
       "3   349.5491          413.1463     699.0982   55.9279  \n",
       "4  1699.9950         1912.1544    3399.9900  271.9992  "
      ]
     },
     "execution_count": 6,
     "metadata": {},
     "output_type": "execute_result"
    }
   ],
   "source": [
    "df.head()"
   ]
  },
  {
   "cell_type": "code",
   "execution_count": 7,
   "metadata": {
    "colab": {
     "base_uri": "https://localhost:8080/"
    },
    "executionInfo": {
     "elapsed": 26,
     "status": "ok",
     "timestamp": 1672133120500,
     "user": {
      "displayName": "Gilberto Uehara",
      "userId": "11139280861294473555"
     },
     "user_tz": 180
    },
    "id": "I0zYNaC7rO7f",
    "outputId": "b2960f1a-4a8c-407d-e200-8b89b571dacc"
   },
   "outputs": [
    {
     "data": {
      "text/plain": [
       "(58189, 13)"
      ]
     },
     "execution_count": 7,
     "metadata": {},
     "output_type": "execute_result"
    }
   ],
   "source": [
    "df.shape"
   ]
  },
  {
   "cell_type": "code",
   "execution_count": 8,
   "metadata": {
    "colab": {
     "base_uri": "https://localhost:8080/"
    },
    "executionInfo": {
     "elapsed": 24,
     "status": "ok",
     "timestamp": 1672133120501,
     "user": {
      "displayName": "Gilberto Uehara",
      "userId": "11139280861294473555"
     },
     "user_tz": 180
    },
    "id": "CFtBUk2IsOss",
    "outputId": "def098a9-0351-41c1-cd99-b5192b8c2ef8"
   },
   "outputs": [
    {
     "data": {
      "text/plain": [
       "ProductKey                       int64\n",
       "OrderDate               datetime64[ns]\n",
       "ShipDate                datetime64[ns]\n",
       "CustomerKey                      int64\n",
       "PromotionKey                     int64\n",
       "SalesTerritoryKey                int64\n",
       "SalesOrderNumber                object\n",
       "SalesOrderLineNumber             int64\n",
       "OrderQuantity                    int64\n",
       "UnitPrice                      float64\n",
       "TotalProductCost               float64\n",
       "SalesAmount                    float64\n",
       "TaxAmt                         float64\n",
       "dtype: object"
      ]
     },
     "execution_count": 8,
     "metadata": {},
     "output_type": "execute_result"
    }
   ],
   "source": [
    "df.dtypes"
   ]
  },
  {
   "cell_type": "code",
   "execution_count": 9,
   "metadata": {
    "colab": {
     "base_uri": "https://localhost:8080/"
    },
    "executionInfo": {
     "elapsed": 23,
     "status": "ok",
     "timestamp": 1672133120502,
     "user": {
      "displayName": "Gilberto Uehara",
      "userId": "11139280861294473555"
     },
     "user_tz": 180
    },
    "id": "FXuL3NV1sZKj",
    "outputId": "eadd1fd9-94e2-4170-c708-b79242933ec4"
   },
   "outputs": [
    {
     "data": {
      "text/plain": [
       "29307836.590699993"
      ]
     },
     "execution_count": 9,
     "metadata": {},
     "output_type": "execute_result"
    }
   ],
   "source": [
    "#Qual a receita total ?\n",
    "df[\"SalesAmount\"].sum()"
   ]
  },
  {
   "cell_type": "code",
   "execution_count": 10,
   "metadata": {
    "colab": {
     "base_uri": "https://localhost:8080/"
    },
    "executionInfo": {
     "elapsed": 21,
     "status": "ok",
     "timestamp": 1672133120503,
     "user": {
      "displayName": "Gilberto Uehara",
      "userId": "11139280861294473555"
     },
     "user_tz": 180
    },
    "id": "PjURrFK2uxvc",
    "outputId": "ea3398ea-fe65-4888-ff3e-ae69bcdc1b9b"
   },
   "outputs": [
    {
     "data": {
      "text/plain": [
       "17255318.663299996"
      ]
     },
     "execution_count": 10,
     "metadata": {},
     "output_type": "execute_result"
    }
   ],
   "source": [
    "#Qual o custo total ?\n",
    "df[\"TotalProductCost\"].sum()"
   ]
  },
  {
   "cell_type": "code",
   "execution_count": 11,
   "metadata": {
    "executionInfo": {
     "elapsed": 19,
     "status": "ok",
     "timestamp": 1672133120504,
     "user": {
      "displayName": "Gilberto Uehara",
      "userId": "11139280861294473555"
     },
     "user_tz": 180
    },
    "id": "1_pCO55Vu-EM"
   },
   "outputs": [],
   "source": [
    "#Total Lucro ?\n",
    "df[\"profit\"] = df[\"SalesAmount\"] - df[\"TotalProductCost\"]"
   ]
  },
  {
   "cell_type": "code",
   "execution_count": 13,
   "metadata": {
    "colab": {
     "base_uri": "https://localhost:8080/",
     "height": 145
    },
    "executionInfo": {
     "elapsed": 264,
     "status": "ok",
     "timestamp": 1672133167760,
     "user": {
      "displayName": "Gilberto Uehara",
      "userId": "11139280861294473555"
     },
     "user_tz": 180
    },
    "id": "ShpF7wT448YJ",
    "outputId": "d90d88e2-cd68-4e68-ba23-ec29e642a70a"
   },
   "outputs": [
    {
     "data": {
      "text/html": [
       "\n",
       "  <div id=\"df-257e4fbb-12aa-43c3-bf58-3430c4d551d3\">\n",
       "    <div class=\"colab-df-container\">\n",
       "      <div>\n",
       "<style scoped>\n",
       "    .dataframe tbody tr th:only-of-type {\n",
       "        vertical-align: middle;\n",
       "    }\n",
       "\n",
       "    .dataframe tbody tr th {\n",
       "        vertical-align: top;\n",
       "    }\n",
       "\n",
       "    .dataframe thead th {\n",
       "        text-align: right;\n",
       "    }\n",
       "</style>\n",
       "<table border=\"1\" class=\"dataframe\">\n",
       "  <thead>\n",
       "    <tr style=\"text-align: right;\">\n",
       "      <th></th>\n",
       "      <th>ProductKey</th>\n",
       "      <th>OrderDate</th>\n",
       "      <th>ShipDate</th>\n",
       "      <th>CustomerKey</th>\n",
       "      <th>PromotionKey</th>\n",
       "      <th>SalesTerritoryKey</th>\n",
       "      <th>SalesOrderNumber</th>\n",
       "      <th>SalesOrderLineNumber</th>\n",
       "      <th>OrderQuantity</th>\n",
       "      <th>UnitPrice</th>\n",
       "      <th>TotalProductCost</th>\n",
       "      <th>SalesAmount</th>\n",
       "      <th>TaxAmt</th>\n",
       "      <th>profit</th>\n",
       "    </tr>\n",
       "  </thead>\n",
       "  <tbody>\n",
       "    <tr>\n",
       "      <th>0</th>\n",
       "      <td>310</td>\n",
       "      <td>2014-01-01</td>\n",
       "      <td>2014-01-08</td>\n",
       "      <td>21768</td>\n",
       "      <td>1</td>\n",
       "      <td>6</td>\n",
       "      <td>SO43697</td>\n",
       "      <td>1</td>\n",
       "      <td>2</td>\n",
       "      <td>1789.135</td>\n",
       "      <td>2171.2942</td>\n",
       "      <td>3578.27</td>\n",
       "      <td>286.2616</td>\n",
       "      <td>1406.9758</td>\n",
       "    </tr>\n",
       "  </tbody>\n",
       "</table>\n",
       "</div>\n",
       "      <button class=\"colab-df-convert\" onclick=\"convertToInteractive('df-257e4fbb-12aa-43c3-bf58-3430c4d551d3')\"\n",
       "              title=\"Convert this dataframe to an interactive table.\"\n",
       "              style=\"display:none;\">\n",
       "        \n",
       "  <svg xmlns=\"http://www.w3.org/2000/svg\" height=\"24px\"viewBox=\"0 0 24 24\"\n",
       "       width=\"24px\">\n",
       "    <path d=\"M0 0h24v24H0V0z\" fill=\"none\"/>\n",
       "    <path d=\"M18.56 5.44l.94 2.06.94-2.06 2.06-.94-2.06-.94-.94-2.06-.94 2.06-2.06.94zm-11 1L8.5 8.5l.94-2.06 2.06-.94-2.06-.94L8.5 2.5l-.94 2.06-2.06.94zm10 10l.94 2.06.94-2.06 2.06-.94-2.06-.94-.94-2.06-.94 2.06-2.06.94z\"/><path d=\"M17.41 7.96l-1.37-1.37c-.4-.4-.92-.59-1.43-.59-.52 0-1.04.2-1.43.59L10.3 9.45l-7.72 7.72c-.78.78-.78 2.05 0 2.83L4 21.41c.39.39.9.59 1.41.59.51 0 1.02-.2 1.41-.59l7.78-7.78 2.81-2.81c.8-.78.8-2.07 0-2.86zM5.41 20L4 18.59l7.72-7.72 1.47 1.35L5.41 20z\"/>\n",
       "  </svg>\n",
       "      </button>\n",
       "      \n",
       "  <style>\n",
       "    .colab-df-container {\n",
       "      display:flex;\n",
       "      flex-wrap:wrap;\n",
       "      gap: 12px;\n",
       "    }\n",
       "\n",
       "    .colab-df-convert {\n",
       "      background-color: #E8F0FE;\n",
       "      border: none;\n",
       "      border-radius: 50%;\n",
       "      cursor: pointer;\n",
       "      display: none;\n",
       "      fill: #1967D2;\n",
       "      height: 32px;\n",
       "      padding: 0 0 0 0;\n",
       "      width: 32px;\n",
       "    }\n",
       "\n",
       "    .colab-df-convert:hover {\n",
       "      background-color: #E2EBFA;\n",
       "      box-shadow: 0px 1px 2px rgba(60, 64, 67, 0.3), 0px 1px 3px 1px rgba(60, 64, 67, 0.15);\n",
       "      fill: #174EA6;\n",
       "    }\n",
       "\n",
       "    [theme=dark] .colab-df-convert {\n",
       "      background-color: #3B4455;\n",
       "      fill: #D2E3FC;\n",
       "    }\n",
       "\n",
       "    [theme=dark] .colab-df-convert:hover {\n",
       "      background-color: #434B5C;\n",
       "      box-shadow: 0px 1px 3px 1px rgba(0, 0, 0, 0.15);\n",
       "      filter: drop-shadow(0px 1px 2px rgba(0, 0, 0, 0.3));\n",
       "      fill: #FFFFFF;\n",
       "    }\n",
       "  </style>\n",
       "\n",
       "      <script>\n",
       "        const buttonEl =\n",
       "          document.querySelector('#df-257e4fbb-12aa-43c3-bf58-3430c4d551d3 button.colab-df-convert');\n",
       "        buttonEl.style.display =\n",
       "          google.colab.kernel.accessAllowed ? 'block' : 'none';\n",
       "\n",
       "        async function convertToInteractive(key) {\n",
       "          const element = document.querySelector('#df-257e4fbb-12aa-43c3-bf58-3430c4d551d3');\n",
       "          const dataTable =\n",
       "            await google.colab.kernel.invokeFunction('convertToInteractive',\n",
       "                                                     [key], {});\n",
       "          if (!dataTable) return;\n",
       "\n",
       "          const docLinkHtml = 'Like what you see? Visit the ' +\n",
       "            '<a target=\"_blank\" href=https://colab.research.google.com/notebooks/data_table.ipynb>data table notebook</a>'\n",
       "            + ' to learn more about interactive tables.';\n",
       "          element.innerHTML = '';\n",
       "          dataTable['output_type'] = 'display_data';\n",
       "          await google.colab.output.renderOutput(dataTable, element);\n",
       "          const docLink = document.createElement('div');\n",
       "          docLink.innerHTML = docLinkHtml;\n",
       "          element.appendChild(docLink);\n",
       "        }\n",
       "      </script>\n",
       "    </div>\n",
       "  </div>\n",
       "  "
      ],
      "text/plain": [
       "   ProductKey  OrderDate   ShipDate  CustomerKey  PromotionKey  \\\n",
       "0         310 2014-01-01 2014-01-08        21768             1   \n",
       "\n",
       "   SalesTerritoryKey SalesOrderNumber  SalesOrderLineNumber  OrderQuantity  \\\n",
       "0                  6          SO43697                     1              2   \n",
       "\n",
       "   UnitPrice  TotalProductCost  SalesAmount    TaxAmt     profit  \n",
       "0   1789.135         2171.2942      3578.27  286.2616  1406.9758  "
      ]
     },
     "execution_count": 13,
     "metadata": {},
     "output_type": "execute_result"
    }
   ],
   "source": [
    "df.head(1)"
   ]
  },
  {
   "cell_type": "code",
   "execution_count": 17,
   "metadata": {
    "colab": {
     "base_uri": "https://localhost:8080/"
    },
    "executionInfo": {
     "elapsed": 250,
     "status": "ok",
     "timestamp": 1672133318582,
     "user": {
      "displayName": "Gilberto Uehara",
      "userId": "11139280861294473555"
     },
     "user_tz": 180
    },
    "id": "7Zhulnso5zCj",
    "outputId": "059cfb39-7673-4e10-ac30-9bfba92bcbed"
   },
   "outputs": [
    {
     "data": {
      "text/plain": [
       "12052517.93"
      ]
     },
     "execution_count": 17,
     "metadata": {},
     "output_type": "execute_result"
    }
   ],
   "source": [
    "#Lucro Total\n",
    "round(df[\"profit\"].sum(), 2)"
   ]
  },
  {
   "cell_type": "code",
   "execution_count": 23,
   "metadata": {
    "executionInfo": {
     "elapsed": 3,
     "status": "ok",
     "timestamp": 1672133623438,
     "user": {
      "displayName": "Gilberto Uehara",
      "userId": "11139280861294473555"
     },
     "user_tz": 180
    },
    "id": "OGlh53y06NnB"
   },
   "outputs": [],
   "source": [
    "#Criando coluna com tempo total para enviar produto\n",
    "df[\"ShipTime\"] = df[\"ShipDate\"] - df[\"OrderDate\"]"
   ]
  },
  {
   "cell_type": "code",
   "execution_count": 24,
   "metadata": {
    "colab": {
     "base_uri": "https://localhost:8080/",
     "height": 145
    },
    "executionInfo": {
     "elapsed": 237,
     "status": "ok",
     "timestamp": 1672133626065,
     "user": {
      "displayName": "Gilberto Uehara",
      "userId": "11139280861294473555"
     },
     "user_tz": 180
    },
    "id": "4pkHG-Em7KAL",
    "outputId": "38c8bc5f-4f88-460e-bb11-ef43129ee3aa"
   },
   "outputs": [
    {
     "data": {
      "text/html": [
       "\n",
       "  <div id=\"df-3df1635c-b75e-4b06-be99-c19eadf6a62b\">\n",
       "    <div class=\"colab-df-container\">\n",
       "      <div>\n",
       "<style scoped>\n",
       "    .dataframe tbody tr th:only-of-type {\n",
       "        vertical-align: middle;\n",
       "    }\n",
       "\n",
       "    .dataframe tbody tr th {\n",
       "        vertical-align: top;\n",
       "    }\n",
       "\n",
       "    .dataframe thead th {\n",
       "        text-align: right;\n",
       "    }\n",
       "</style>\n",
       "<table border=\"1\" class=\"dataframe\">\n",
       "  <thead>\n",
       "    <tr style=\"text-align: right;\">\n",
       "      <th></th>\n",
       "      <th>ProductKey</th>\n",
       "      <th>OrderDate</th>\n",
       "      <th>ShipDate</th>\n",
       "      <th>CustomerKey</th>\n",
       "      <th>PromotionKey</th>\n",
       "      <th>SalesTerritoryKey</th>\n",
       "      <th>SalesOrderNumber</th>\n",
       "      <th>SalesOrderLineNumber</th>\n",
       "      <th>OrderQuantity</th>\n",
       "      <th>UnitPrice</th>\n",
       "      <th>TotalProductCost</th>\n",
       "      <th>SalesAmount</th>\n",
       "      <th>TaxAmt</th>\n",
       "      <th>profit</th>\n",
       "      <th>ShipTime</th>\n",
       "    </tr>\n",
       "  </thead>\n",
       "  <tbody>\n",
       "    <tr>\n",
       "      <th>0</th>\n",
       "      <td>310</td>\n",
       "      <td>2014-01-01</td>\n",
       "      <td>2014-01-08</td>\n",
       "      <td>21768</td>\n",
       "      <td>1</td>\n",
       "      <td>6</td>\n",
       "      <td>SO43697</td>\n",
       "      <td>1</td>\n",
       "      <td>2</td>\n",
       "      <td>1789.135</td>\n",
       "      <td>2171.2942</td>\n",
       "      <td>3578.27</td>\n",
       "      <td>286.2616</td>\n",
       "      <td>1406.9758</td>\n",
       "      <td>7 days</td>\n",
       "    </tr>\n",
       "  </tbody>\n",
       "</table>\n",
       "</div>\n",
       "      <button class=\"colab-df-convert\" onclick=\"convertToInteractive('df-3df1635c-b75e-4b06-be99-c19eadf6a62b')\"\n",
       "              title=\"Convert this dataframe to an interactive table.\"\n",
       "              style=\"display:none;\">\n",
       "        \n",
       "  <svg xmlns=\"http://www.w3.org/2000/svg\" height=\"24px\"viewBox=\"0 0 24 24\"\n",
       "       width=\"24px\">\n",
       "    <path d=\"M0 0h24v24H0V0z\" fill=\"none\"/>\n",
       "    <path d=\"M18.56 5.44l.94 2.06.94-2.06 2.06-.94-2.06-.94-.94-2.06-.94 2.06-2.06.94zm-11 1L8.5 8.5l.94-2.06 2.06-.94-2.06-.94L8.5 2.5l-.94 2.06-2.06.94zm10 10l.94 2.06.94-2.06 2.06-.94-2.06-.94-.94-2.06-.94 2.06-2.06.94z\"/><path d=\"M17.41 7.96l-1.37-1.37c-.4-.4-.92-.59-1.43-.59-.52 0-1.04.2-1.43.59L10.3 9.45l-7.72 7.72c-.78.78-.78 2.05 0 2.83L4 21.41c.39.39.9.59 1.41.59.51 0 1.02-.2 1.41-.59l7.78-7.78 2.81-2.81c.8-.78.8-2.07 0-2.86zM5.41 20L4 18.59l7.72-7.72 1.47 1.35L5.41 20z\"/>\n",
       "  </svg>\n",
       "      </button>\n",
       "      \n",
       "  <style>\n",
       "    .colab-df-container {\n",
       "      display:flex;\n",
       "      flex-wrap:wrap;\n",
       "      gap: 12px;\n",
       "    }\n",
       "\n",
       "    .colab-df-convert {\n",
       "      background-color: #E8F0FE;\n",
       "      border: none;\n",
       "      border-radius: 50%;\n",
       "      cursor: pointer;\n",
       "      display: none;\n",
       "      fill: #1967D2;\n",
       "      height: 32px;\n",
       "      padding: 0 0 0 0;\n",
       "      width: 32px;\n",
       "    }\n",
       "\n",
       "    .colab-df-convert:hover {\n",
       "      background-color: #E2EBFA;\n",
       "      box-shadow: 0px 1px 2px rgba(60, 64, 67, 0.3), 0px 1px 3px 1px rgba(60, 64, 67, 0.15);\n",
       "      fill: #174EA6;\n",
       "    }\n",
       "\n",
       "    [theme=dark] .colab-df-convert {\n",
       "      background-color: #3B4455;\n",
       "      fill: #D2E3FC;\n",
       "    }\n",
       "\n",
       "    [theme=dark] .colab-df-convert:hover {\n",
       "      background-color: #434B5C;\n",
       "      box-shadow: 0px 1px 3px 1px rgba(0, 0, 0, 0.15);\n",
       "      filter: drop-shadow(0px 1px 2px rgba(0, 0, 0, 0.3));\n",
       "      fill: #FFFFFF;\n",
       "    }\n",
       "  </style>\n",
       "\n",
       "      <script>\n",
       "        const buttonEl =\n",
       "          document.querySelector('#df-3df1635c-b75e-4b06-be99-c19eadf6a62b button.colab-df-convert');\n",
       "        buttonEl.style.display =\n",
       "          google.colab.kernel.accessAllowed ? 'block' : 'none';\n",
       "\n",
       "        async function convertToInteractive(key) {\n",
       "          const element = document.querySelector('#df-3df1635c-b75e-4b06-be99-c19eadf6a62b');\n",
       "          const dataTable =\n",
       "            await google.colab.kernel.invokeFunction('convertToInteractive',\n",
       "                                                     [key], {});\n",
       "          if (!dataTable) return;\n",
       "\n",
       "          const docLinkHtml = 'Like what you see? Visit the ' +\n",
       "            '<a target=\"_blank\" href=https://colab.research.google.com/notebooks/data_table.ipynb>data table notebook</a>'\n",
       "            + ' to learn more about interactive tables.';\n",
       "          element.innerHTML = '';\n",
       "          dataTable['output_type'] = 'display_data';\n",
       "          await google.colab.output.renderOutput(dataTable, element);\n",
       "          const docLink = document.createElement('div');\n",
       "          docLink.innerHTML = docLinkHtml;\n",
       "          element.appendChild(docLink);\n",
       "        }\n",
       "      </script>\n",
       "    </div>\n",
       "  </div>\n",
       "  "
      ],
      "text/plain": [
       "   ProductKey  OrderDate   ShipDate  CustomerKey  PromotionKey  \\\n",
       "0         310 2014-01-01 2014-01-08        21768             1   \n",
       "\n",
       "   SalesTerritoryKey SalesOrderNumber  SalesOrderLineNumber  OrderQuantity  \\\n",
       "0                  6          SO43697                     1              2   \n",
       "\n",
       "   UnitPrice  TotalProductCost  SalesAmount    TaxAmt     profit ShipTime  \n",
       "0   1789.135         2171.2942      3578.27  286.2616  1406.9758   7 days  "
      ]
     },
     "execution_count": 24,
     "metadata": {},
     "output_type": "execute_result"
    }
   ],
   "source": [
    "df.head(1)"
   ]
  },
  {
   "cell_type": "code",
   "execution_count": 32,
   "metadata": {
    "executionInfo": {
     "elapsed": 241,
     "status": "ok",
     "timestamp": 1672133795824,
     "user": {
      "displayName": "Gilberto Uehara",
      "userId": "11139280861294473555"
     },
     "user_tz": 180
    },
    "id": "cPC45aRR7Maa"
   },
   "outputs": [],
   "source": [
    "#Extraindo apenas o valor numerico de dias\n",
    "df[\"ShipTime\"] = (df[\"ShipDate\"] - df[\"OrderDate\"]).dt.days"
   ]
  },
  {
   "cell_type": "code",
   "execution_count": 33,
   "metadata": {
    "colab": {
     "base_uri": "https://localhost:8080/",
     "height": 145
    },
    "executionInfo": {
     "elapsed": 267,
     "status": "ok",
     "timestamp": 1672133798245,
     "user": {
      "displayName": "Gilberto Uehara",
      "userId": "11139280861294473555"
     },
     "user_tz": 180
    },
    "id": "gpF1ODri7v8e",
    "outputId": "ef3b5a0d-15e9-4b9a-bfd5-7e5ea1fe71f6"
   },
   "outputs": [
    {
     "data": {
      "text/html": [
       "\n",
       "  <div id=\"df-1f7d90f5-f0ed-4fcc-8a7b-a1af188250d2\">\n",
       "    <div class=\"colab-df-container\">\n",
       "      <div>\n",
       "<style scoped>\n",
       "    .dataframe tbody tr th:only-of-type {\n",
       "        vertical-align: middle;\n",
       "    }\n",
       "\n",
       "    .dataframe tbody tr th {\n",
       "        vertical-align: top;\n",
       "    }\n",
       "\n",
       "    .dataframe thead th {\n",
       "        text-align: right;\n",
       "    }\n",
       "</style>\n",
       "<table border=\"1\" class=\"dataframe\">\n",
       "  <thead>\n",
       "    <tr style=\"text-align: right;\">\n",
       "      <th></th>\n",
       "      <th>ProductKey</th>\n",
       "      <th>OrderDate</th>\n",
       "      <th>ShipDate</th>\n",
       "      <th>CustomerKey</th>\n",
       "      <th>PromotionKey</th>\n",
       "      <th>SalesTerritoryKey</th>\n",
       "      <th>SalesOrderNumber</th>\n",
       "      <th>SalesOrderLineNumber</th>\n",
       "      <th>OrderQuantity</th>\n",
       "      <th>UnitPrice</th>\n",
       "      <th>TotalProductCost</th>\n",
       "      <th>SalesAmount</th>\n",
       "      <th>TaxAmt</th>\n",
       "      <th>profit</th>\n",
       "      <th>ShipTime</th>\n",
       "    </tr>\n",
       "  </thead>\n",
       "  <tbody>\n",
       "    <tr>\n",
       "      <th>0</th>\n",
       "      <td>310</td>\n",
       "      <td>2014-01-01</td>\n",
       "      <td>2014-01-08</td>\n",
       "      <td>21768</td>\n",
       "      <td>1</td>\n",
       "      <td>6</td>\n",
       "      <td>SO43697</td>\n",
       "      <td>1</td>\n",
       "      <td>2</td>\n",
       "      <td>1789.135</td>\n",
       "      <td>2171.2942</td>\n",
       "      <td>3578.27</td>\n",
       "      <td>286.2616</td>\n",
       "      <td>1406.9758</td>\n",
       "      <td>7</td>\n",
       "    </tr>\n",
       "  </tbody>\n",
       "</table>\n",
       "</div>\n",
       "      <button class=\"colab-df-convert\" onclick=\"convertToInteractive('df-1f7d90f5-f0ed-4fcc-8a7b-a1af188250d2')\"\n",
       "              title=\"Convert this dataframe to an interactive table.\"\n",
       "              style=\"display:none;\">\n",
       "        \n",
       "  <svg xmlns=\"http://www.w3.org/2000/svg\" height=\"24px\"viewBox=\"0 0 24 24\"\n",
       "       width=\"24px\">\n",
       "    <path d=\"M0 0h24v24H0V0z\" fill=\"none\"/>\n",
       "    <path d=\"M18.56 5.44l.94 2.06.94-2.06 2.06-.94-2.06-.94-.94-2.06-.94 2.06-2.06.94zm-11 1L8.5 8.5l.94-2.06 2.06-.94-2.06-.94L8.5 2.5l-.94 2.06-2.06.94zm10 10l.94 2.06.94-2.06 2.06-.94-2.06-.94-.94-2.06-.94 2.06-2.06.94z\"/><path d=\"M17.41 7.96l-1.37-1.37c-.4-.4-.92-.59-1.43-.59-.52 0-1.04.2-1.43.59L10.3 9.45l-7.72 7.72c-.78.78-.78 2.05 0 2.83L4 21.41c.39.39.9.59 1.41.59.51 0 1.02-.2 1.41-.59l7.78-7.78 2.81-2.81c.8-.78.8-2.07 0-2.86zM5.41 20L4 18.59l7.72-7.72 1.47 1.35L5.41 20z\"/>\n",
       "  </svg>\n",
       "      </button>\n",
       "      \n",
       "  <style>\n",
       "    .colab-df-container {\n",
       "      display:flex;\n",
       "      flex-wrap:wrap;\n",
       "      gap: 12px;\n",
       "    }\n",
       "\n",
       "    .colab-df-convert {\n",
       "      background-color: #E8F0FE;\n",
       "      border: none;\n",
       "      border-radius: 50%;\n",
       "      cursor: pointer;\n",
       "      display: none;\n",
       "      fill: #1967D2;\n",
       "      height: 32px;\n",
       "      padding: 0 0 0 0;\n",
       "      width: 32px;\n",
       "    }\n",
       "\n",
       "    .colab-df-convert:hover {\n",
       "      background-color: #E2EBFA;\n",
       "      box-shadow: 0px 1px 2px rgba(60, 64, 67, 0.3), 0px 1px 3px 1px rgba(60, 64, 67, 0.15);\n",
       "      fill: #174EA6;\n",
       "    }\n",
       "\n",
       "    [theme=dark] .colab-df-convert {\n",
       "      background-color: #3B4455;\n",
       "      fill: #D2E3FC;\n",
       "    }\n",
       "\n",
       "    [theme=dark] .colab-df-convert:hover {\n",
       "      background-color: #434B5C;\n",
       "      box-shadow: 0px 1px 3px 1px rgba(0, 0, 0, 0.15);\n",
       "      filter: drop-shadow(0px 1px 2px rgba(0, 0, 0, 0.3));\n",
       "      fill: #FFFFFF;\n",
       "    }\n",
       "  </style>\n",
       "\n",
       "      <script>\n",
       "        const buttonEl =\n",
       "          document.querySelector('#df-1f7d90f5-f0ed-4fcc-8a7b-a1af188250d2 button.colab-df-convert');\n",
       "        buttonEl.style.display =\n",
       "          google.colab.kernel.accessAllowed ? 'block' : 'none';\n",
       "\n",
       "        async function convertToInteractive(key) {\n",
       "          const element = document.querySelector('#df-1f7d90f5-f0ed-4fcc-8a7b-a1af188250d2');\n",
       "          const dataTable =\n",
       "            await google.colab.kernel.invokeFunction('convertToInteractive',\n",
       "                                                     [key], {});\n",
       "          if (!dataTable) return;\n",
       "\n",
       "          const docLinkHtml = 'Like what you see? Visit the ' +\n",
       "            '<a target=\"_blank\" href=https://colab.research.google.com/notebooks/data_table.ipynb>data table notebook</a>'\n",
       "            + ' to learn more about interactive tables.';\n",
       "          element.innerHTML = '';\n",
       "          dataTable['output_type'] = 'display_data';\n",
       "          await google.colab.output.renderOutput(dataTable, element);\n",
       "          const docLink = document.createElement('div');\n",
       "          docLink.innerHTML = docLinkHtml;\n",
       "          element.appendChild(docLink);\n",
       "        }\n",
       "      </script>\n",
       "    </div>\n",
       "  </div>\n",
       "  "
      ],
      "text/plain": [
       "   ProductKey  OrderDate   ShipDate  CustomerKey  PromotionKey  \\\n",
       "0         310 2014-01-01 2014-01-08        21768             1   \n",
       "\n",
       "   SalesTerritoryKey SalesOrderNumber  SalesOrderLineNumber  OrderQuantity  \\\n",
       "0                  6          SO43697                     1              2   \n",
       "\n",
       "   UnitPrice  TotalProductCost  SalesAmount    TaxAmt     profit  ShipTime  \n",
       "0   1789.135         2171.2942      3578.27  286.2616  1406.9758         7  "
      ]
     },
     "execution_count": 33,
     "metadata": {},
     "output_type": "execute_result"
    }
   ],
   "source": [
    "df.head(1)"
   ]
  },
  {
   "cell_type": "code",
   "execution_count": 34,
   "metadata": {
    "colab": {
     "base_uri": "https://localhost:8080/"
    },
    "executionInfo": {
     "elapsed": 255,
     "status": "ok",
     "timestamp": 1672133800512,
     "user": {
      "displayName": "Gilberto Uehara",
      "userId": "11139280861294473555"
     },
     "user_tz": 180
    },
    "id": "nrtXhpWl7yUW",
    "outputId": "1220a483-01d3-4126-8884-72722dab256a"
   },
   "outputs": [
    {
     "data": {
      "text/plain": [
       "dtype('int64')"
      ]
     },
     "execution_count": 34,
     "metadata": {},
     "output_type": "execute_result"
    }
   ],
   "source": [
    "df[\"ShipTime\"].dtype"
   ]
  },
  {
   "cell_type": "code",
   "execution_count": 37,
   "metadata": {
    "colab": {
     "base_uri": "https://localhost:8080/"
    },
    "executionInfo": {
     "elapsed": 245,
     "status": "ok",
     "timestamp": 1672134133312,
     "user": {
      "displayName": "Gilberto Uehara",
      "userId": "11139280861294473555"
     },
     "user_tz": 180
    },
    "id": "FucsF0o58JgL",
    "outputId": "0380f0a6-5326-44b0-afe9-dac588be3ab5"
   },
   "outputs": [
    {
     "data": {
      "text/plain": [
       "SalesTerritoryKey\n",
       "1     6.999417\n",
       "2     6.925926\n",
       "3     7.000000\n",
       "4     7.002444\n",
       "5     7.088235\n",
       "6     6.995099\n",
       "7     7.000000\n",
       "8     7.000916\n",
       "9     7.017037\n",
       "10    7.011477\n",
       "Name: ShipTime, dtype: float64"
      ]
     },
     "execution_count": 37,
     "metadata": {},
     "output_type": "execute_result"
    }
   ],
   "source": [
    "#Media de dias para envio por Territorio de Venda\n",
    "df.groupby(\"SalesTerritoryKey\")[\"ShipTime\"].mean()"
   ]
  },
  {
   "cell_type": "code",
   "execution_count": 38,
   "metadata": {
    "colab": {
     "base_uri": "https://localhost:8080/"
    },
    "executionInfo": {
     "elapsed": 236,
     "status": "ok",
     "timestamp": 1672134199542,
     "user": {
      "displayName": "Gilberto Uehara",
      "userId": "11139280861294473555"
     },
     "user_tz": 180
    },
    "id": "aDmtUJJT9N5o",
    "outputId": "356b9c6b-9d0c-458b-b20e-182b505633b1"
   },
   "outputs": [
    {
     "data": {
      "text/plain": [
       "ProductKey              0\n",
       "OrderDate               0\n",
       "ShipDate                0\n",
       "CustomerKey             0\n",
       "PromotionKey            0\n",
       "SalesTerritoryKey       0\n",
       "SalesOrderNumber        0\n",
       "SalesOrderLineNumber    0\n",
       "OrderQuantity           0\n",
       "UnitPrice               0\n",
       "TotalProductCost        0\n",
       "SalesAmount             0\n",
       "TaxAmt                  0\n",
       "profit                  0\n",
       "ShipTime                0\n",
       "dtype: int64"
      ]
     },
     "execution_count": 38,
     "metadata": {},
     "output_type": "execute_result"
    }
   ],
   "source": [
    "#Verificando valores ausentes\n",
    "df.isnull().sum()"
   ]
  },
  {
   "cell_type": "code",
   "execution_count": 41,
   "metadata": {
    "colab": {
     "base_uri": "https://localhost:8080/"
    },
    "executionInfo": {
     "elapsed": 273,
     "status": "ok",
     "timestamp": 1672134554378,
     "user": {
      "displayName": "Gilberto Uehara",
      "userId": "11139280861294473555"
     },
     "user_tz": 180
    },
    "id": "hlnFc7jN9wWE",
    "outputId": "1277098c-bcf2-4c1e-d505-5c7be1f41b34"
   },
   "outputs": [
    {
     "data": {
      "text/plain": [
       "OrderDate  SalesTerritoryKey\n",
       "2014       1                             369,830.13\n",
       "           4                             609,693.65\n",
       "           6                             228,167.88\n",
       "           7                             166,216.91\n",
       "           8                             206,706.78\n",
       "           9                           1,040,547.10\n",
       "           10                            221,993.12\n",
       "2015       1                             258,510.25\n",
       "           2                                 943.29\n",
       "           3                                 953.56\n",
       "           4                             340,210.52\n",
       "           5                               1,546.13\n",
       "           6                             125,668.33\n",
       "           7                             259,348.70\n",
       "           8                             241,845.81\n",
       "           9                             879,949.40\n",
       "           10                            285,477.30\n",
       "2016       1                             885,648.40\n",
       "           2                               1,959.47\n",
       "           3                                 397.36\n",
       "           4                           1,416,770.93\n",
       "           5                               3,714.96\n",
       "           6                             469,963.11\n",
       "           7                             658,692.47\n",
       "           8                             736,731.39\n",
       "           9                           1,760,344.42\n",
       "           10                            880,686.55\n",
       "Name: profit, dtype: float64"
      ]
     },
     "execution_count": 41,
     "metadata": {},
     "output_type": "execute_result"
    }
   ],
   "source": [
    "#Lucro por ano e por territorio de venda\n",
    "df.groupby([df[\"OrderDate\"].dt.year, \"SalesTerritoryKey\"])[\"profit\"].sum()"
   ]
  },
  {
   "cell_type": "code",
   "execution_count": 40,
   "metadata": {
    "executionInfo": {
     "elapsed": 240,
     "status": "ok",
     "timestamp": 1672134551145,
     "user": {
      "displayName": "Gilberto Uehara",
      "userId": "11139280861294473555"
     },
     "user_tz": 180
    },
    "id": "C3EqIUFQ-vUG"
   },
   "outputs": [],
   "source": [
    "#Formatar saida padrao em notacao cientifica para duas casas decimais\n",
    "pd.options.display.float_format = '{:20,.2f}'.format"
   ]
  },
  {
   "cell_type": "code",
   "execution_count": 43,
   "metadata": {
    "colab": {
     "base_uri": "https://localhost:8080/",
     "height": 896
    },
    "executionInfo": {
     "elapsed": 278,
     "status": "ok",
     "timestamp": 1672134810463,
     "user": {
      "displayName": "Gilberto Uehara",
      "userId": "11139280861294473555"
     },
     "user_tz": 180
    },
    "id": "Q8uJ7leR_GL1",
    "outputId": "06724d8d-ac3f-43b2-9c3f-f39aaf6046b0"
   },
   "outputs": [
    {
     "data": {
      "text/html": [
       "\n",
       "  <div id=\"df-19202eaf-fbec-492c-a610-92457d7d6d7c\">\n",
       "    <div class=\"colab-df-container\">\n",
       "      <div>\n",
       "<style scoped>\n",
       "    .dataframe tbody tr th:only-of-type {\n",
       "        vertical-align: middle;\n",
       "    }\n",
       "\n",
       "    .dataframe tbody tr th {\n",
       "        vertical-align: top;\n",
       "    }\n",
       "\n",
       "    .dataframe thead th {\n",
       "        text-align: right;\n",
       "    }\n",
       "</style>\n",
       "<table border=\"1\" class=\"dataframe\">\n",
       "  <thead>\n",
       "    <tr style=\"text-align: right;\">\n",
       "      <th></th>\n",
       "      <th>OrderDate</th>\n",
       "      <th>SalesTerritoryKey</th>\n",
       "      <th>profit</th>\n",
       "    </tr>\n",
       "  </thead>\n",
       "  <tbody>\n",
       "    <tr>\n",
       "      <th>0</th>\n",
       "      <td>2014</td>\n",
       "      <td>1</td>\n",
       "      <td>369,830.13</td>\n",
       "    </tr>\n",
       "    <tr>\n",
       "      <th>1</th>\n",
       "      <td>2014</td>\n",
       "      <td>4</td>\n",
       "      <td>609,693.65</td>\n",
       "    </tr>\n",
       "    <tr>\n",
       "      <th>2</th>\n",
       "      <td>2014</td>\n",
       "      <td>6</td>\n",
       "      <td>228,167.88</td>\n",
       "    </tr>\n",
       "    <tr>\n",
       "      <th>3</th>\n",
       "      <td>2014</td>\n",
       "      <td>7</td>\n",
       "      <td>166,216.91</td>\n",
       "    </tr>\n",
       "    <tr>\n",
       "      <th>4</th>\n",
       "      <td>2014</td>\n",
       "      <td>8</td>\n",
       "      <td>206,706.78</td>\n",
       "    </tr>\n",
       "    <tr>\n",
       "      <th>5</th>\n",
       "      <td>2014</td>\n",
       "      <td>9</td>\n",
       "      <td>1,040,547.10</td>\n",
       "    </tr>\n",
       "    <tr>\n",
       "      <th>6</th>\n",
       "      <td>2014</td>\n",
       "      <td>10</td>\n",
       "      <td>221,993.12</td>\n",
       "    </tr>\n",
       "    <tr>\n",
       "      <th>7</th>\n",
       "      <td>2015</td>\n",
       "      <td>1</td>\n",
       "      <td>258,510.25</td>\n",
       "    </tr>\n",
       "    <tr>\n",
       "      <th>8</th>\n",
       "      <td>2015</td>\n",
       "      <td>2</td>\n",
       "      <td>943.29</td>\n",
       "    </tr>\n",
       "    <tr>\n",
       "      <th>9</th>\n",
       "      <td>2015</td>\n",
       "      <td>3</td>\n",
       "      <td>953.56</td>\n",
       "    </tr>\n",
       "    <tr>\n",
       "      <th>10</th>\n",
       "      <td>2015</td>\n",
       "      <td>4</td>\n",
       "      <td>340,210.52</td>\n",
       "    </tr>\n",
       "    <tr>\n",
       "      <th>11</th>\n",
       "      <td>2015</td>\n",
       "      <td>5</td>\n",
       "      <td>1,546.13</td>\n",
       "    </tr>\n",
       "    <tr>\n",
       "      <th>12</th>\n",
       "      <td>2015</td>\n",
       "      <td>6</td>\n",
       "      <td>125,668.33</td>\n",
       "    </tr>\n",
       "    <tr>\n",
       "      <th>13</th>\n",
       "      <td>2015</td>\n",
       "      <td>7</td>\n",
       "      <td>259,348.70</td>\n",
       "    </tr>\n",
       "    <tr>\n",
       "      <th>14</th>\n",
       "      <td>2015</td>\n",
       "      <td>8</td>\n",
       "      <td>241,845.81</td>\n",
       "    </tr>\n",
       "    <tr>\n",
       "      <th>15</th>\n",
       "      <td>2015</td>\n",
       "      <td>9</td>\n",
       "      <td>879,949.40</td>\n",
       "    </tr>\n",
       "    <tr>\n",
       "      <th>16</th>\n",
       "      <td>2015</td>\n",
       "      <td>10</td>\n",
       "      <td>285,477.30</td>\n",
       "    </tr>\n",
       "    <tr>\n",
       "      <th>17</th>\n",
       "      <td>2016</td>\n",
       "      <td>1</td>\n",
       "      <td>885,648.40</td>\n",
       "    </tr>\n",
       "    <tr>\n",
       "      <th>18</th>\n",
       "      <td>2016</td>\n",
       "      <td>2</td>\n",
       "      <td>1,959.47</td>\n",
       "    </tr>\n",
       "    <tr>\n",
       "      <th>19</th>\n",
       "      <td>2016</td>\n",
       "      <td>3</td>\n",
       "      <td>397.36</td>\n",
       "    </tr>\n",
       "    <tr>\n",
       "      <th>20</th>\n",
       "      <td>2016</td>\n",
       "      <td>4</td>\n",
       "      <td>1,416,770.93</td>\n",
       "    </tr>\n",
       "    <tr>\n",
       "      <th>21</th>\n",
       "      <td>2016</td>\n",
       "      <td>5</td>\n",
       "      <td>3,714.96</td>\n",
       "    </tr>\n",
       "    <tr>\n",
       "      <th>22</th>\n",
       "      <td>2016</td>\n",
       "      <td>6</td>\n",
       "      <td>469,963.11</td>\n",
       "    </tr>\n",
       "    <tr>\n",
       "      <th>23</th>\n",
       "      <td>2016</td>\n",
       "      <td>7</td>\n",
       "      <td>658,692.47</td>\n",
       "    </tr>\n",
       "    <tr>\n",
       "      <th>24</th>\n",
       "      <td>2016</td>\n",
       "      <td>8</td>\n",
       "      <td>736,731.39</td>\n",
       "    </tr>\n",
       "    <tr>\n",
       "      <th>25</th>\n",
       "      <td>2016</td>\n",
       "      <td>9</td>\n",
       "      <td>1,760,344.42</td>\n",
       "    </tr>\n",
       "    <tr>\n",
       "      <th>26</th>\n",
       "      <td>2016</td>\n",
       "      <td>10</td>\n",
       "      <td>880,686.55</td>\n",
       "    </tr>\n",
       "  </tbody>\n",
       "</table>\n",
       "</div>\n",
       "      <button class=\"colab-df-convert\" onclick=\"convertToInteractive('df-19202eaf-fbec-492c-a610-92457d7d6d7c')\"\n",
       "              title=\"Convert this dataframe to an interactive table.\"\n",
       "              style=\"display:none;\">\n",
       "        \n",
       "  <svg xmlns=\"http://www.w3.org/2000/svg\" height=\"24px\"viewBox=\"0 0 24 24\"\n",
       "       width=\"24px\">\n",
       "    <path d=\"M0 0h24v24H0V0z\" fill=\"none\"/>\n",
       "    <path d=\"M18.56 5.44l.94 2.06.94-2.06 2.06-.94-2.06-.94-.94-2.06-.94 2.06-2.06.94zm-11 1L8.5 8.5l.94-2.06 2.06-.94-2.06-.94L8.5 2.5l-.94 2.06-2.06.94zm10 10l.94 2.06.94-2.06 2.06-.94-2.06-.94-.94-2.06-.94 2.06-2.06.94z\"/><path d=\"M17.41 7.96l-1.37-1.37c-.4-.4-.92-.59-1.43-.59-.52 0-1.04.2-1.43.59L10.3 9.45l-7.72 7.72c-.78.78-.78 2.05 0 2.83L4 21.41c.39.39.9.59 1.41.59.51 0 1.02-.2 1.41-.59l7.78-7.78 2.81-2.81c.8-.78.8-2.07 0-2.86zM5.41 20L4 18.59l7.72-7.72 1.47 1.35L5.41 20z\"/>\n",
       "  </svg>\n",
       "      </button>\n",
       "      \n",
       "  <style>\n",
       "    .colab-df-container {\n",
       "      display:flex;\n",
       "      flex-wrap:wrap;\n",
       "      gap: 12px;\n",
       "    }\n",
       "\n",
       "    .colab-df-convert {\n",
       "      background-color: #E8F0FE;\n",
       "      border: none;\n",
       "      border-radius: 50%;\n",
       "      cursor: pointer;\n",
       "      display: none;\n",
       "      fill: #1967D2;\n",
       "      height: 32px;\n",
       "      padding: 0 0 0 0;\n",
       "      width: 32px;\n",
       "    }\n",
       "\n",
       "    .colab-df-convert:hover {\n",
       "      background-color: #E2EBFA;\n",
       "      box-shadow: 0px 1px 2px rgba(60, 64, 67, 0.3), 0px 1px 3px 1px rgba(60, 64, 67, 0.15);\n",
       "      fill: #174EA6;\n",
       "    }\n",
       "\n",
       "    [theme=dark] .colab-df-convert {\n",
       "      background-color: #3B4455;\n",
       "      fill: #D2E3FC;\n",
       "    }\n",
       "\n",
       "    [theme=dark] .colab-df-convert:hover {\n",
       "      background-color: #434B5C;\n",
       "      box-shadow: 0px 1px 3px 1px rgba(0, 0, 0, 0.15);\n",
       "      filter: drop-shadow(0px 1px 2px rgba(0, 0, 0, 0.3));\n",
       "      fill: #FFFFFF;\n",
       "    }\n",
       "  </style>\n",
       "\n",
       "      <script>\n",
       "        const buttonEl =\n",
       "          document.querySelector('#df-19202eaf-fbec-492c-a610-92457d7d6d7c button.colab-df-convert');\n",
       "        buttonEl.style.display =\n",
       "          google.colab.kernel.accessAllowed ? 'block' : 'none';\n",
       "\n",
       "        async function convertToInteractive(key) {\n",
       "          const element = document.querySelector('#df-19202eaf-fbec-492c-a610-92457d7d6d7c');\n",
       "          const dataTable =\n",
       "            await google.colab.kernel.invokeFunction('convertToInteractive',\n",
       "                                                     [key], {});\n",
       "          if (!dataTable) return;\n",
       "\n",
       "          const docLinkHtml = 'Like what you see? Visit the ' +\n",
       "            '<a target=\"_blank\" href=https://colab.research.google.com/notebooks/data_table.ipynb>data table notebook</a>'\n",
       "            + ' to learn more about interactive tables.';\n",
       "          element.innerHTML = '';\n",
       "          dataTable['output_type'] = 'display_data';\n",
       "          await google.colab.output.renderOutput(dataTable, element);\n",
       "          const docLink = document.createElement('div');\n",
       "          docLink.innerHTML = docLinkHtml;\n",
       "          element.appendChild(docLink);\n",
       "        }\n",
       "      </script>\n",
       "    </div>\n",
       "  </div>\n",
       "  "
      ],
      "text/plain": [
       "    OrderDate  SalesTerritoryKey               profit\n",
       "0        2014                  1           369,830.13\n",
       "1        2014                  4           609,693.65\n",
       "2        2014                  6           228,167.88\n",
       "3        2014                  7           166,216.91\n",
       "4        2014                  8           206,706.78\n",
       "5        2014                  9         1,040,547.10\n",
       "6        2014                 10           221,993.12\n",
       "7        2015                  1           258,510.25\n",
       "8        2015                  2               943.29\n",
       "9        2015                  3               953.56\n",
       "10       2015                  4           340,210.52\n",
       "11       2015                  5             1,546.13\n",
       "12       2015                  6           125,668.33\n",
       "13       2015                  7           259,348.70\n",
       "14       2015                  8           241,845.81\n",
       "15       2015                  9           879,949.40\n",
       "16       2015                 10           285,477.30\n",
       "17       2016                  1           885,648.40\n",
       "18       2016                  2             1,959.47\n",
       "19       2016                  3               397.36\n",
       "20       2016                  4         1,416,770.93\n",
       "21       2016                  5             3,714.96\n",
       "22       2016                  6           469,963.11\n",
       "23       2016                  7           658,692.47\n",
       "24       2016                  8           736,731.39\n",
       "25       2016                  9         1,760,344.42\n",
       "26       2016                 10           880,686.55"
      ]
     },
     "execution_count": 43,
     "metadata": {},
     "output_type": "execute_result"
    }
   ],
   "source": [
    "#Resetando o index\n",
    "YearProfit = df.groupby([df[\"OrderDate\"].dt.year, \"SalesTerritoryKey\"])[\"profit\"].sum().reset_index()\n",
    "YearProfit"
   ]
  },
  {
   "cell_type": "code",
   "execution_count": 44,
   "metadata": {
    "colab": {
     "base_uri": "https://localhost:8080/"
    },
    "executionInfo": {
     "elapsed": 262,
     "status": "ok",
     "timestamp": 1672134980851,
     "user": {
      "displayName": "Gilberto Uehara",
      "userId": "11139280861294473555"
     },
     "user_tz": 180
    },
    "id": "Bnyb-4SOAAl0",
    "outputId": "81ff9047-0b60-4fa1-9cef-84c18ba29c86"
   },
   "outputs": [
    {
     "data": {
      "text/plain": [
       "ProductKey\n",
       "477    6370\n",
       "480    4705\n",
       "528    4551\n",
       "529    3544\n",
       "214    3398\n",
       "       ... \n",
       "324      31\n",
       "332      28\n",
       "322      28\n",
       "340      26\n",
       "338      26\n",
       "Name: OrderQuantity, Length: 158, dtype: int64"
      ]
     },
     "execution_count": 44,
     "metadata": {},
     "output_type": "execute_result"
    }
   ],
   "source": [
    "#Produtos mais vendidos\n",
    "df.groupby(\"ProductKey\")[\"OrderQuantity\"].sum().sort_values(ascending=False)"
   ]
  },
  {
   "cell_type": "code",
   "execution_count": 48,
   "metadata": {
    "colab": {
     "base_uri": "https://localhost:8080/",
     "height": 394
    },
    "executionInfo": {
     "elapsed": 550,
     "status": "ok",
     "timestamp": 1672135246963,
     "user": {
      "displayName": "Gilberto Uehara",
      "userId": "11139280861294473555"
     },
     "user_tz": 180
    },
    "id": "Y5yZ3evqAvFJ",
    "outputId": "ae531014-7b91-4ecd-c44e-ef2517f246ea"
   },
   "outputs": [
    {
     "data": {
      "text/plain": [
       "Text(0, 0.5, 'Produto')"
      ]
     },
     "execution_count": 48,
     "metadata": {},
     "output_type": "execute_result"
    },
    {
     "data": {
      "image/png": "[encoded data removed]",
      "text/plain": [
       "<Figure size 576x396 with 1 Axes>"
      ]
     },
     "metadata": {},
     "output_type": "display_data"
    }
   ],
   "source": [
    "#Grafico 10 produtos mais vendidos\n",
    "df.groupby(\"ProductKey\")[\"OrderQuantity\"].sum().sort_values(ascending=False)[:10].plot.barh(title='Produtos mais vendidos')\n",
    "plt.xlabel(\"Total\")\n",
    "plt.ylabel(\"Produto\")"
   ]
  },
  {
   "cell_type": "code",
   "execution_count": 49,
   "metadata": {
    "colab": {
     "base_uri": "https://localhost:8080/",
     "height": 406
    },
    "executionInfo": {
     "elapsed": 682,
     "status": "ok",
     "timestamp": 1672135429601,
     "user": {
      "displayName": "Gilberto Uehara",
      "userId": "11139280861294473555"
     },
     "user_tz": 180
    },
    "id": "myG1UHZ8BJ2m",
    "outputId": "d05ea8bb-09f0-45d9-f5dc-372aa5020821"
   },
   "outputs": [
    {
     "data": {
      "text/plain": [
       "Text(0, 0.5, 'Receita')"
      ]
     },
     "execution_count": 49,
     "metadata": {},
     "output_type": "execute_result"
    },
    {
     "data": {
      "image/png": "[encoded data removed]",
      "text/plain": [
       "<Figure size 576x396 with 1 Axes>"
      ]
     },
     "metadata": {},
     "output_type": "display_data"
    }
   ],
   "source": [
    "df.groupby(df[\"OrderDate\"].dt.year)[\"profit\"].sum().plot.bar(title='Lucro X Ano')\n",
    "plt.xlabel('Ano')\n",
    "plt.ylabel('Receita')"
   ]
  },
  {
   "cell_type": "code",
   "execution_count": 50,
   "metadata": {
    "colab": {
     "base_uri": "https://localhost:8080/"
    },
    "executionInfo": {
     "elapsed": 238,
     "status": "ok",
     "timestamp": 1672135460041,
     "user": {
      "displayName": "Gilberto Uehara",
      "userId": "11139280861294473555"
     },
     "user_tz": 180
    },
    "id": "ywAxxJ2KCci-",
    "outputId": "ce048c22-7bc7-4fd4-b834-bd18e15ff796"
   },
   "outputs": [
    {
     "data": {
      "text/plain": [
       "OrderDate\n",
       "2014           2,843,155.57\n",
       "2015           2,394,453.30\n",
       "2016           6,814,909.06\n",
       "Name: profit, dtype: float64"
      ]
     },
     "execution_count": 50,
     "metadata": {},
     "output_type": "execute_result"
    }
   ],
   "source": [
    "df.groupby(df[\"OrderDate\"].dt.year)[\"profit\"].sum()"
   ]
  },
  {
   "cell_type": "code",
   "execution_count": 51,
   "metadata": {
    "executionInfo": {
     "elapsed": 253,
     "status": "ok",
     "timestamp": 1672135567837,
     "user": {
      "displayName": "Gilberto Uehara",
      "userId": "11139280861294473555"
     },
     "user_tz": 180
    },
    "id": "ZH9-W9t3CkFe"
   },
   "outputs": [],
   "source": [
    "#Selecionando apenas as vendas de 2016\n",
    "df_2016 = df[df[\"OrderDate\"].dt.year == 2016]"
   ]
  },
  {
   "cell_type": "code",
   "execution_count": 52,
   "metadata": {
    "colab": {
     "base_uri": "https://localhost:8080/",
     "height": 270
    },
    "executionInfo": {
     "elapsed": 6,
     "status": "ok",
     "timestamp": 1672135584959,
     "user": {
      "displayName": "Gilberto Uehara",
      "userId": "11139280861294473555"
     },
     "user_tz": 180
    },
    "id": "FQLFEuEDC-ZP",
    "outputId": "d5faa2c7-ab4b-4251-dfc0-a01a2368abd4"
   },
   "outputs": [
    {
     "data": {
      "text/html": [
       "\n",
       "  <div id=\"df-9965bf86-f143-4cad-a0b7-b989a738aa92\">\n",
       "    <div class=\"colab-df-container\">\n",
       "      <div>\n",
       "<style scoped>\n",
       "    .dataframe tbody tr th:only-of-type {\n",
       "        vertical-align: middle;\n",
       "    }\n",
       "\n",
       "    .dataframe tbody tr th {\n",
       "        vertical-align: top;\n",
       "    }\n",
       "\n",
       "    .dataframe thead th {\n",
       "        text-align: right;\n",
       "    }\n",
       "</style>\n",
       "<table border=\"1\" class=\"dataframe\">\n",
       "  <thead>\n",
       "    <tr style=\"text-align: right;\">\n",
       "      <th></th>\n",
       "      <th>ProductKey</th>\n",
       "      <th>OrderDate</th>\n",
       "      <th>ShipDate</th>\n",
       "      <th>CustomerKey</th>\n",
       "      <th>PromotionKey</th>\n",
       "      <th>SalesTerritoryKey</th>\n",
       "      <th>SalesOrderNumber</th>\n",
       "      <th>SalesOrderLineNumber</th>\n",
       "      <th>OrderQuantity</th>\n",
       "      <th>UnitPrice</th>\n",
       "      <th>TotalProductCost</th>\n",
       "      <th>SalesAmount</th>\n",
       "      <th>TaxAmt</th>\n",
       "      <th>profit</th>\n",
       "      <th>ShipTime</th>\n",
       "    </tr>\n",
       "  </thead>\n",
       "  <tbody>\n",
       "    <tr>\n",
       "      <th>5428</th>\n",
       "      <td>380</td>\n",
       "      <td>2016-01-01</td>\n",
       "      <td>2016-01-08</td>\n",
       "      <td>18239</td>\n",
       "      <td>1</td>\n",
       "      <td>9</td>\n",
       "      <td>SO51176</td>\n",
       "      <td>1</td>\n",
       "      <td>1</td>\n",
       "      <td>2,443.35</td>\n",
       "      <td>1,554.95</td>\n",
       "      <td>2,443.35</td>\n",
       "      <td>195.47</td>\n",
       "      <td>888.40</td>\n",
       "      <td>7</td>\n",
       "    </tr>\n",
       "    <tr>\n",
       "      <th>5429</th>\n",
       "      <td>479</td>\n",
       "      <td>2016-01-01</td>\n",
       "      <td>2016-01-08</td>\n",
       "      <td>18239</td>\n",
       "      <td>1</td>\n",
       "      <td>9</td>\n",
       "      <td>SO51176</td>\n",
       "      <td>2</td>\n",
       "      <td>1</td>\n",
       "      <td>8.99</td>\n",
       "      <td>3.36</td>\n",
       "      <td>8.99</td>\n",
       "      <td>0.72</td>\n",
       "      <td>5.63</td>\n",
       "      <td>7</td>\n",
       "    </tr>\n",
       "    <tr>\n",
       "      <th>5430</th>\n",
       "      <td>577</td>\n",
       "      <td>2016-01-01</td>\n",
       "      <td>2016-01-08</td>\n",
       "      <td>27873</td>\n",
       "      <td>1</td>\n",
       "      <td>9</td>\n",
       "      <td>SO51177</td>\n",
       "      <td>1</td>\n",
       "      <td>1</td>\n",
       "      <td>1,214.85</td>\n",
       "      <td>755.15</td>\n",
       "      <td>1,214.85</td>\n",
       "      <td>97.19</td>\n",
       "      <td>459.70</td>\n",
       "      <td>7</td>\n",
       "    </tr>\n",
       "    <tr>\n",
       "      <th>5431</th>\n",
       "      <td>217</td>\n",
       "      <td>2016-01-01</td>\n",
       "      <td>2016-01-08</td>\n",
       "      <td>27873</td>\n",
       "      <td>1</td>\n",
       "      <td>9</td>\n",
       "      <td>SO51177</td>\n",
       "      <td>2</td>\n",
       "      <td>1</td>\n",
       "      <td>34.99</td>\n",
       "      <td>13.09</td>\n",
       "      <td>34.99</td>\n",
       "      <td>2.80</td>\n",
       "      <td>21.90</td>\n",
       "      <td>7</td>\n",
       "    </tr>\n",
       "    <tr>\n",
       "      <th>5432</th>\n",
       "      <td>353</td>\n",
       "      <td>2016-01-01</td>\n",
       "      <td>2016-01-08</td>\n",
       "      <td>11245</td>\n",
       "      <td>2</td>\n",
       "      <td>8</td>\n",
       "      <td>SO51178</td>\n",
       "      <td>1</td>\n",
       "      <td>1</td>\n",
       "      <td>2,319.99</td>\n",
       "      <td>1,265.62</td>\n",
       "      <td>2,319.99</td>\n",
       "      <td>185.60</td>\n",
       "      <td>1,054.37</td>\n",
       "      <td>7</td>\n",
       "    </tr>\n",
       "  </tbody>\n",
       "</table>\n",
       "</div>\n",
       "      <button class=\"colab-df-convert\" onclick=\"convertToInteractive('df-9965bf86-f143-4cad-a0b7-b989a738aa92')\"\n",
       "              title=\"Convert this dataframe to an interactive table.\"\n",
       "              style=\"display:none;\">\n",
       "        \n",
       "  <svg xmlns=\"http://www.w3.org/2000/svg\" height=\"24px\"viewBox=\"0 0 24 24\"\n",
       "       width=\"24px\">\n",
       "    <path d=\"M0 0h24v24H0V0z\" fill=\"none\"/>\n",
       "    <path d=\"M18.56 5.44l.94 2.06.94-2.06 2.06-.94-2.06-.94-.94-2.06-.94 2.06-2.06.94zm-11 1L8.5 8.5l.94-2.06 2.06-.94-2.06-.94L8.5 2.5l-.94 2.06-2.06.94zm10 10l.94 2.06.94-2.06 2.06-.94-2.06-.94-.94-2.06-.94 2.06-2.06.94z\"/><path d=\"M17.41 7.96l-1.37-1.37c-.4-.4-.92-.59-1.43-.59-.52 0-1.04.2-1.43.59L10.3 9.45l-7.72 7.72c-.78.78-.78 2.05 0 2.83L4 21.41c.39.39.9.59 1.41.59.51 0 1.02-.2 1.41-.59l7.78-7.78 2.81-2.81c.8-.78.8-2.07 0-2.86zM5.41 20L4 18.59l7.72-7.72 1.47 1.35L5.41 20z\"/>\n",
       "  </svg>\n",
       "      </button>\n",
       "      \n",
       "  <style>\n",
       "    .colab-df-container {\n",
       "      display:flex;\n",
       "      flex-wrap:wrap;\n",
       "      gap: 12px;\n",
       "    }\n",
       "\n",
       "    .colab-df-convert {\n",
       "      background-color: #E8F0FE;\n",
       "      border: none;\n",
       "      border-radius: 50%;\n",
       "      cursor: pointer;\n",
       "      display: none;\n",
       "      fill: #1967D2;\n",
       "      height: 32px;\n",
       "      padding: 0 0 0 0;\n",
       "      width: 32px;\n",
       "    }\n",
       "\n",
       "    .colab-df-convert:hover {\n",
       "      background-color: #E2EBFA;\n",
       "      box-shadow: 0px 1px 2px rgba(60, 64, 67, 0.3), 0px 1px 3px 1px rgba(60, 64, 67, 0.15);\n",
       "      fill: #174EA6;\n",
       "    }\n",
       "\n",
       "    [theme=dark] .colab-df-convert {\n",
       "      background-color: #3B4455;\n",
       "      fill: #D2E3FC;\n",
       "    }\n",
       "\n",
       "    [theme=dark] .colab-df-convert:hover {\n",
       "      background-color: #434B5C;\n",
       "      box-shadow: 0px 1px 3px 1px rgba(0, 0, 0, 0.15);\n",
       "      filter: drop-shadow(0px 1px 2px rgba(0, 0, 0, 0.3));\n",
       "      fill: #FFFFFF;\n",
       "    }\n",
       "  </style>\n",
       "\n",
       "      <script>\n",
       "        const buttonEl =\n",
       "          document.querySelector('#df-9965bf86-f143-4cad-a0b7-b989a738aa92 button.colab-df-convert');\n",
       "        buttonEl.style.display =\n",
       "          google.colab.kernel.accessAllowed ? 'block' : 'none';\n",
       "\n",
       "        async function convertToInteractive(key) {\n",
       "          const element = document.querySelector('#df-9965bf86-f143-4cad-a0b7-b989a738aa92');\n",
       "          const dataTable =\n",
       "            await google.colab.kernel.invokeFunction('convertToInteractive',\n",
       "                                                     [key], {});\n",
       "          if (!dataTable) return;\n",
       "\n",
       "          const docLinkHtml = 'Like what you see? Visit the ' +\n",
       "            '<a target=\"_blank\" href=https://colab.research.google.com/notebooks/data_table.ipynb>data table notebook</a>'\n",
       "            + ' to learn more about interactive tables.';\n",
       "          element.innerHTML = '';\n",
       "          dataTable['output_type'] = 'display_data';\n",
       "          await google.colab.output.renderOutput(dataTable, element);\n",
       "          const docLink = document.createElement('div');\n",
       "          docLink.innerHTML = docLinkHtml;\n",
       "          element.appendChild(docLink);\n",
       "        }\n",
       "      </script>\n",
       "    </div>\n",
       "  </div>\n",
       "  "
      ],
      "text/plain": [
       "      ProductKey  OrderDate   ShipDate  CustomerKey  PromotionKey  \\\n",
       "5428         380 2016-01-01 2016-01-08        18239             1   \n",
       "5429         479 2016-01-01 2016-01-08        18239             1   \n",
       "5430         577 2016-01-01 2016-01-08        27873             1   \n",
       "5431         217 2016-01-01 2016-01-08        27873             1   \n",
       "5432         353 2016-01-01 2016-01-08        11245             2   \n",
       "\n",
       "      SalesTerritoryKey SalesOrderNumber  SalesOrderLineNumber  OrderQuantity  \\\n",
       "5428                  9          SO51176                     1              1   \n",
       "5429                  9          SO51176                     2              1   \n",
       "5430                  9          SO51177                     1              1   \n",
       "5431                  9          SO51177                     2              1   \n",
       "5432                  8          SO51178                     1              1   \n",
       "\n",
       "                UnitPrice     TotalProductCost          SalesAmount  \\\n",
       "5428             2,443.35             1,554.95             2,443.35   \n",
       "5429                 8.99                 3.36                 8.99   \n",
       "5430             1,214.85               755.15             1,214.85   \n",
       "5431                34.99                13.09                34.99   \n",
       "5432             2,319.99             1,265.62             2,319.99   \n",
       "\n",
       "                   TaxAmt               profit  ShipTime  \n",
       "5428               195.47               888.40         7  \n",
       "5429                 0.72                 5.63         7  \n",
       "5430                97.19               459.70         7  \n",
       "5431                 2.80                21.90         7  \n",
       "5432               185.60             1,054.37         7  "
      ]
     },
     "execution_count": 52,
     "metadata": {},
     "output_type": "execute_result"
    }
   ],
   "source": [
    "df_2016.head()"
   ]
  },
  {
   "cell_type": "code",
   "execution_count": 55,
   "metadata": {
    "colab": {
     "base_uri": "https://localhost:8080/",
     "height": 394
    },
    "executionInfo": {
     "elapsed": 467,
     "status": "ok",
     "timestamp": 1672135804639,
     "user": {
      "displayName": "Gilberto Uehara",
      "userId": "11139280861294473555"
     },
     "user_tz": 180
    },
    "id": "X3d7IZL4DCrd",
    "outputId": "988bacc1-0cd9-442d-b03c-417145115c35"
   },
   "outputs": [
    {
     "data": {
      "text/plain": [
       "Text(0, 0.5, 'Lucro')"
      ]
     },
     "execution_count": 55,
     "metadata": {},
     "output_type": "execute_result"
    },
    {
     "data": {
      "image/png": "[encoded data removed]",
      "text/plain": [
       "<Figure size 576x396 with 1 Axes>"
      ]
     },
     "metadata": {},
     "output_type": "display_data"
    }
   ],
   "source": [
    "df_2016.groupby(df_2016[\"OrderDate\"].dt.month)[\"profit\"].sum().plot(title=\"Lucro X Mes\")\n",
    "plt.xlabel('Mes')\n",
    "plt.ylabel('Lucro')"
   ]
  },
  {
   "cell_type": "code",
   "execution_count": 56,
   "metadata": {
    "colab": {
     "base_uri": "https://localhost:8080/",
     "height": 394
    },
    "executionInfo": {
     "elapsed": 732,
     "status": "ok",
     "timestamp": 1672135974391,
     "user": {
      "displayName": "Gilberto Uehara",
      "userId": "11139280861294473555"
     },
     "user_tz": 180
    },
    "id": "HPufBfu0DnhV",
    "outputId": "fa57e247-1a99-46c6-d7ac-6dfb264e2514"
   },
   "outputs": [
    {
     "data": {
      "text/plain": [
       "Text(0, 0.5, 'Lucro')"
      ]
     },
     "execution_count": 56,
     "metadata": {},
     "output_type": "execute_result"
    },
    {
     "data": {
      "image/png": "[encoded data removed]",
      "text/plain": [
       "<Figure size 576x396 with 1 Axes>"
      ]
     },
     "metadata": {},
     "output_type": "display_data"
    }
   ],
   "source": [
    "df_2016.groupby(\"SalesTerritoryKey\")[\"profit\"].sum().plot(title=\"Lucro X Marca\")\n",
    "plt.xlabel('Territory')\n",
    "plt.ylabel('Lucro')"
   ]
  },
  {
   "cell_type": "code",
   "execution_count": 57,
   "metadata": {
    "colab": {
     "base_uri": "https://localhost:8080/"
    },
    "executionInfo": {
     "elapsed": 6,
     "status": "ok",
     "timestamp": 1672136086517,
     "user": {
      "displayName": "Gilberto Uehara",
      "userId": "11139280861294473555"
     },
     "user_tz": 180
    },
    "id": "JZ1Oo-boEhh9",
    "outputId": "81411a13-6162-47e1-ecb2-4b3f2fe9fd42"
   },
   "outputs": [
    {
     "data": {
      "text/plain": [
       "count              58,189.00\n",
       "mean                    7.01\n",
       "std                     0.57\n",
       "min                     4.00\n",
       "25%                     7.00\n",
       "50%                     7.00\n",
       "75%                     7.00\n",
       "max                    10.00\n",
       "Name: ShipTime, dtype: float64"
      ]
     },
     "execution_count": 57,
     "metadata": {},
     "output_type": "execute_result"
    }
   ],
   "source": [
    "df[\"ShipTime\"].describe()"
   ]
  },
  {
   "cell_type": "code",
   "execution_count": 62,
   "metadata": {
    "colab": {
     "base_uri": "https://localhost:8080/",
     "height": 347
    },
    "executionInfo": {
     "elapsed": 624,
     "status": "ok",
     "timestamp": 1672136335261,
     "user": {
      "displayName": "Gilberto Uehara",
      "userId": "11139280861294473555"
     },
     "user_tz": 180
    },
    "id": "Hi5bSxpaE9IZ",
    "outputId": "939dfb4b-8487-4718-da0a-d857be908a44"
   },
   "outputs": [
    {
     "data": {
      "image/png": "[encoded data removed]",
      "text/plain": [
       "<Figure size 576x396 with 1 Axes>"
      ]
     },
     "metadata": {},
     "output_type": "display_data"
    }
   ],
   "source": [
    "#Grafico de boxplot\n",
    "plt.boxplot(df[\"ShipTime\"]);"
   ]
  },
  {
   "cell_type": "code",
   "execution_count": 63,
   "metadata": {
    "colab": {
     "base_uri": "https://localhost:8080/",
     "height": 347
    },
    "executionInfo": {
     "elapsed": 412,
     "status": "ok",
     "timestamp": 1672136339672,
     "user": {
      "displayName": "Gilberto Uehara",
      "userId": "11139280861294473555"
     },
     "user_tz": 180
    },
    "id": "2CHflpwsFO-R",
    "outputId": "31909853-e456-4adc-c0cf-2fa3a40397a2"
   },
   "outputs": [
    {
     "data": {
      "image/png": "[encoded data removed]",
      "text/plain": [
       "<Figure size 576x396 with 1 Axes>"
      ]
     },
     "metadata": {},
     "output_type": "display_data"
    }
   ],
   "source": [
    "#Histograma\n",
    "plt.hist(df[\"ShipTime\"]);"
   ]
  },
  {
   "cell_type": "code",
   "execution_count": 67,
   "metadata": {
    "colab": {
     "base_uri": "https://localhost:8080/"
    },
    "executionInfo": {
     "elapsed": 243,
     "status": "ok",
     "timestamp": 1672136393931,
     "user": {
      "displayName": "Gilberto Uehara",
      "userId": "11139280861294473555"
     },
     "user_tz": 180
    },
    "id": "i_0BIu1SFzgR",
    "outputId": "0ba64e24-fae7-43ad-a6da-2f244022fab5"
   },
   "outputs": [
    {
     "data": {
      "text/plain": [
       "4"
      ]
     },
     "execution_count": 67,
     "metadata": {},
     "output_type": "execute_result"
    }
   ],
   "source": [
    "#Tempo minimo de envio\n",
    "df[\"ShipTime\"].min()"
   ]
  },
  {
   "cell_type": "code",
   "execution_count": 68,
   "metadata": {
    "colab": {
     "base_uri": "https://localhost:8080/"
    },
    "executionInfo": {
     "elapsed": 3,
     "status": "ok",
     "timestamp": 1672136410147,
     "user": {
      "displayName": "Gilberto Uehara",
      "userId": "11139280861294473555"
     },
     "user_tz": 180
    },
    "id": "j40TdhU0F_KM",
    "outputId": "5b02cbcd-ddea-437d-e5e7-ee21392e2e02"
   },
   "outputs": [
    {
     "data": {
      "text/plain": [
       "10"
      ]
     },
     "execution_count": 68,
     "metadata": {},
     "output_type": "execute_result"
    }
   ],
   "source": [
    "#Tempo maximo de envio\n",
    "df[\"ShipTime\"].max()"
   ]
  },
  {
   "cell_type": "code",
   "execution_count": 69,
   "metadata": {
    "colab": {
     "base_uri": "https://localhost:8080/",
     "height": 488
    },
    "executionInfo": {
     "elapsed": 10,
     "status": "ok",
     "timestamp": 1672136462723,
     "user": {
      "displayName": "Gilberto Uehara",
      "userId": "11139280861294473555"
     },
     "user_tz": 180
    },
    "id": "xg-zNE8LGDOX",
    "outputId": "6ced064f-e6f4-484e-f5ef-68b45737e1ce"
   },
   "outputs": [
    {
     "data": {
      "text/html": [
       "\n",
       "  <div id=\"df-75e9ea50-6b1f-44c2-88dc-ab056a02707c\">\n",
       "    <div class=\"colab-df-container\">\n",
       "      <div>\n",
       "<style scoped>\n",
       "    .dataframe tbody tr th:only-of-type {\n",
       "        vertical-align: middle;\n",
       "    }\n",
       "\n",
       "    .dataframe tbody tr th {\n",
       "        vertical-align: top;\n",
       "    }\n",
       "\n",
       "    .dataframe thead th {\n",
       "        text-align: right;\n",
       "    }\n",
       "</style>\n",
       "<table border=\"1\" class=\"dataframe\">\n",
       "  <thead>\n",
       "    <tr style=\"text-align: right;\">\n",
       "      <th></th>\n",
       "      <th>ProductKey</th>\n",
       "      <th>OrderDate</th>\n",
       "      <th>ShipDate</th>\n",
       "      <th>CustomerKey</th>\n",
       "      <th>PromotionKey</th>\n",
       "      <th>SalesTerritoryKey</th>\n",
       "      <th>SalesOrderNumber</th>\n",
       "      <th>SalesOrderLineNumber</th>\n",
       "      <th>OrderQuantity</th>\n",
       "      <th>UnitPrice</th>\n",
       "      <th>TotalProductCost</th>\n",
       "      <th>SalesAmount</th>\n",
       "      <th>TaxAmt</th>\n",
       "      <th>profit</th>\n",
       "      <th>ShipTime</th>\n",
       "    </tr>\n",
       "  </thead>\n",
       "  <tbody>\n",
       "    <tr>\n",
       "      <th>1323</th>\n",
       "      <td>345</td>\n",
       "      <td>2014-08-22</td>\n",
       "      <td>2014-09-01</td>\n",
       "      <td>11422</td>\n",
       "      <td>1</td>\n",
       "      <td>10</td>\n",
       "      <td>SO45467</td>\n",
       "      <td>1</td>\n",
       "      <td>1</td>\n",
       "      <td>3,399.99</td>\n",
       "      <td>1,912.15</td>\n",
       "      <td>3,399.99</td>\n",
       "      <td>272.00</td>\n",
       "      <td>1,487.84</td>\n",
       "      <td>10</td>\n",
       "    </tr>\n",
       "    <tr>\n",
       "      <th>1324</th>\n",
       "      <td>311</td>\n",
       "      <td>2014-08-22</td>\n",
       "      <td>2014-09-01</td>\n",
       "      <td>23164</td>\n",
       "      <td>1</td>\n",
       "      <td>6</td>\n",
       "      <td>SO45468</td>\n",
       "      <td>1</td>\n",
       "      <td>1</td>\n",
       "      <td>3,578.27</td>\n",
       "      <td>2,171.29</td>\n",
       "      <td>3,578.27</td>\n",
       "      <td>286.26</td>\n",
       "      <td>1,406.98</td>\n",
       "      <td>10</td>\n",
       "    </tr>\n",
       "    <tr>\n",
       "      <th>1325</th>\n",
       "      <td>350</td>\n",
       "      <td>2014-08-22</td>\n",
       "      <td>2014-09-01</td>\n",
       "      <td>19989</td>\n",
       "      <td>1</td>\n",
       "      <td>6</td>\n",
       "      <td>SO45469</td>\n",
       "      <td>1</td>\n",
       "      <td>1</td>\n",
       "      <td>3,374.99</td>\n",
       "      <td>1,898.09</td>\n",
       "      <td>3,374.99</td>\n",
       "      <td>270.00</td>\n",
       "      <td>1,476.90</td>\n",
       "      <td>10</td>\n",
       "    </tr>\n",
       "    <tr>\n",
       "      <th>1326</th>\n",
       "      <td>312</td>\n",
       "      <td>2014-08-22</td>\n",
       "      <td>2014-09-01</td>\n",
       "      <td>28177</td>\n",
       "      <td>1</td>\n",
       "      <td>6</td>\n",
       "      <td>SO45470</td>\n",
       "      <td>1</td>\n",
       "      <td>1</td>\n",
       "      <td>3,578.27</td>\n",
       "      <td>2,171.29</td>\n",
       "      <td>3,578.27</td>\n",
       "      <td>286.26</td>\n",
       "      <td>1,406.98</td>\n",
       "      <td>10</td>\n",
       "    </tr>\n",
       "    <tr>\n",
       "      <th>1327</th>\n",
       "      <td>313</td>\n",
       "      <td>2014-08-22</td>\n",
       "      <td>2014-09-01</td>\n",
       "      <td>29280</td>\n",
       "      <td>1</td>\n",
       "      <td>1</td>\n",
       "      <td>SO45471</td>\n",
       "      <td>1</td>\n",
       "      <td>1</td>\n",
       "      <td>3,578.27</td>\n",
       "      <td>2,171.29</td>\n",
       "      <td>3,578.27</td>\n",
       "      <td>286.26</td>\n",
       "      <td>1,406.98</td>\n",
       "      <td>10</td>\n",
       "    </tr>\n",
       "    <tr>\n",
       "      <th>...</th>\n",
       "      <td>...</td>\n",
       "      <td>...</td>\n",
       "      <td>...</td>\n",
       "      <td>...</td>\n",
       "      <td>...</td>\n",
       "      <td>...</td>\n",
       "      <td>...</td>\n",
       "      <td>...</td>\n",
       "      <td>...</td>\n",
       "      <td>...</td>\n",
       "      <td>...</td>\n",
       "      <td>...</td>\n",
       "      <td>...</td>\n",
       "      <td>...</td>\n",
       "      <td>...</td>\n",
       "    </tr>\n",
       "    <tr>\n",
       "      <th>4201</th>\n",
       "      <td>356</td>\n",
       "      <td>2015-08-28</td>\n",
       "      <td>2015-09-07</td>\n",
       "      <td>14020</td>\n",
       "      <td>1</td>\n",
       "      <td>9</td>\n",
       "      <td>SO49438</td>\n",
       "      <td>1</td>\n",
       "      <td>1</td>\n",
       "      <td>2,071.42</td>\n",
       "      <td>1,117.86</td>\n",
       "      <td>2,071.42</td>\n",
       "      <td>165.71</td>\n",
       "      <td>953.56</td>\n",
       "      <td>10</td>\n",
       "    </tr>\n",
       "    <tr>\n",
       "      <th>4202</th>\n",
       "      <td>356</td>\n",
       "      <td>2015-08-28</td>\n",
       "      <td>2015-09-07</td>\n",
       "      <td>14064</td>\n",
       "      <td>1</td>\n",
       "      <td>9</td>\n",
       "      <td>SO49439</td>\n",
       "      <td>1</td>\n",
       "      <td>1</td>\n",
       "      <td>2,071.42</td>\n",
       "      <td>1,117.86</td>\n",
       "      <td>2,071.42</td>\n",
       "      <td>165.71</td>\n",
       "      <td>953.56</td>\n",
       "      <td>10</td>\n",
       "    </tr>\n",
       "    <tr>\n",
       "      <th>4203</th>\n",
       "      <td>360</td>\n",
       "      <td>2015-08-28</td>\n",
       "      <td>2015-09-07</td>\n",
       "      <td>14101</td>\n",
       "      <td>1</td>\n",
       "      <td>9</td>\n",
       "      <td>SO49440</td>\n",
       "      <td>1</td>\n",
       "      <td>1</td>\n",
       "      <td>2,049.10</td>\n",
       "      <td>1,105.81</td>\n",
       "      <td>2,049.10</td>\n",
       "      <td>163.93</td>\n",
       "      <td>943.29</td>\n",
       "      <td>10</td>\n",
       "    </tr>\n",
       "    <tr>\n",
       "      <th>4204</th>\n",
       "      <td>358</td>\n",
       "      <td>2015-08-28</td>\n",
       "      <td>2015-09-07</td>\n",
       "      <td>27044</td>\n",
       "      <td>1</td>\n",
       "      <td>4</td>\n",
       "      <td>SO49441</td>\n",
       "      <td>1</td>\n",
       "      <td>1</td>\n",
       "      <td>2,049.10</td>\n",
       "      <td>1,105.81</td>\n",
       "      <td>2,049.10</td>\n",
       "      <td>163.93</td>\n",
       "      <td>943.29</td>\n",
       "      <td>10</td>\n",
       "    </tr>\n",
       "    <tr>\n",
       "      <th>4205</th>\n",
       "      <td>335</td>\n",
       "      <td>2015-08-28</td>\n",
       "      <td>2015-09-07</td>\n",
       "      <td>15532</td>\n",
       "      <td>1</td>\n",
       "      <td>4</td>\n",
       "      <td>SO49442</td>\n",
       "      <td>1</td>\n",
       "      <td>1</td>\n",
       "      <td>782.99</td>\n",
       "      <td>486.71</td>\n",
       "      <td>782.99</td>\n",
       "      <td>62.64</td>\n",
       "      <td>296.28</td>\n",
       "      <td>10</td>\n",
       "    </tr>\n",
       "  </tbody>\n",
       "</table>\n",
       "<p>107 rows × 15 columns</p>\n",
       "</div>\n",
       "      <button class=\"colab-df-convert\" onclick=\"convertToInteractive('df-75e9ea50-6b1f-44c2-88dc-ab056a02707c')\"\n",
       "              title=\"Convert this dataframe to an interactive table.\"\n",
       "              style=\"display:none;\">\n",
       "        \n",
       "  <svg xmlns=\"http://www.w3.org/2000/svg\" height=\"24px\"viewBox=\"0 0 24 24\"\n",
       "       width=\"24px\">\n",
       "    <path d=\"M0 0h24v24H0V0z\" fill=\"none\"/>\n",
       "    <path d=\"M18.56 5.44l.94 2.06.94-2.06 2.06-.94-2.06-.94-.94-2.06-.94 2.06-2.06.94zm-11 1L8.5 8.5l.94-2.06 2.06-.94-2.06-.94L8.5 2.5l-.94 2.06-2.06.94zm10 10l.94 2.06.94-2.06 2.06-.94-2.06-.94-.94-2.06-.94 2.06-2.06.94z\"/><path d=\"M17.41 7.96l-1.37-1.37c-.4-.4-.92-.59-1.43-.59-.52 0-1.04.2-1.43.59L10.3 9.45l-7.72 7.72c-.78.78-.78 2.05 0 2.83L4 21.41c.39.39.9.59 1.41.59.51 0 1.02-.2 1.41-.59l7.78-7.78 2.81-2.81c.8-.78.8-2.07 0-2.86zM5.41 20L4 18.59l7.72-7.72 1.47 1.35L5.41 20z\"/>\n",
       "  </svg>\n",
       "      </button>\n",
       "      \n",
       "  <style>\n",
       "    .colab-df-container {\n",
       "      display:flex;\n",
       "      flex-wrap:wrap;\n",
       "      gap: 12px;\n",
       "    }\n",
       "\n",
       "    .colab-df-convert {\n",
       "      background-color: #E8F0FE;\n",
       "      border: none;\n",
       "      border-radius: 50%;\n",
       "      cursor: pointer;\n",
       "      display: none;\n",
       "      fill: #1967D2;\n",
       "      height: 32px;\n",
       "      padding: 0 0 0 0;\n",
       "      width: 32px;\n",
       "    }\n",
       "\n",
       "    .colab-df-convert:hover {\n",
       "      background-color: #E2EBFA;\n",
       "      box-shadow: 0px 1px 2px rgba(60, 64, 67, 0.3), 0px 1px 3px 1px rgba(60, 64, 67, 0.15);\n",
       "      fill: #174EA6;\n",
       "    }\n",
       "\n",
       "    [theme=dark] .colab-df-convert {\n",
       "      background-color: #3B4455;\n",
       "      fill: #D2E3FC;\n",
       "    }\n",
       "\n",
       "    [theme=dark] .colab-df-convert:hover {\n",
       "      background-color: #434B5C;\n",
       "      box-shadow: 0px 1px 3px 1px rgba(0, 0, 0, 0.15);\n",
       "      filter: drop-shadow(0px 1px 2px rgba(0, 0, 0, 0.3));\n",
       "      fill: #FFFFFF;\n",
       "    }\n",
       "  </style>\n",
       "\n",
       "      <script>\n",
       "        const buttonEl =\n",
       "          document.querySelector('#df-75e9ea50-6b1f-44c2-88dc-ab056a02707c button.colab-df-convert');\n",
       "        buttonEl.style.display =\n",
       "          google.colab.kernel.accessAllowed ? 'block' : 'none';\n",
       "\n",
       "        async function convertToInteractive(key) {\n",
       "          const element = document.querySelector('#df-75e9ea50-6b1f-44c2-88dc-ab056a02707c');\n",
       "          const dataTable =\n",
       "            await google.colab.kernel.invokeFunction('convertToInteractive',\n",
       "                                                     [key], {});\n",
       "          if (!dataTable) return;\n",
       "\n",
       "          const docLinkHtml = 'Like what you see? Visit the ' +\n",
       "            '<a target=\"_blank\" href=https://colab.research.google.com/notebooks/data_table.ipynb>data table notebook</a>'\n",
       "            + ' to learn more about interactive tables.';\n",
       "          element.innerHTML = '';\n",
       "          dataTable['output_type'] = 'display_data';\n",
       "          await google.colab.output.renderOutput(dataTable, element);\n",
       "          const docLink = document.createElement('div');\n",
       "          docLink.innerHTML = docLinkHtml;\n",
       "          element.appendChild(docLink);\n",
       "        }\n",
       "      </script>\n",
       "    </div>\n",
       "  </div>\n",
       "  "
      ],
      "text/plain": [
       "      ProductKey  OrderDate   ShipDate  CustomerKey  PromotionKey  \\\n",
       "1323         345 2014-08-22 2014-09-01        11422             1   \n",
       "1324         311 2014-08-22 2014-09-01        23164             1   \n",
       "1325         350 2014-08-22 2014-09-01        19989             1   \n",
       "1326         312 2014-08-22 2014-09-01        28177             1   \n",
       "1327         313 2014-08-22 2014-09-01        29280             1   \n",
       "...          ...        ...        ...          ...           ...   \n",
       "4201         356 2015-08-28 2015-09-07        14020             1   \n",
       "4202         356 2015-08-28 2015-09-07        14064             1   \n",
       "4203         360 2015-08-28 2015-09-07        14101             1   \n",
       "4204         358 2015-08-28 2015-09-07        27044             1   \n",
       "4205         335 2015-08-28 2015-09-07        15532             1   \n",
       "\n",
       "      SalesTerritoryKey SalesOrderNumber  SalesOrderLineNumber  OrderQuantity  \\\n",
       "1323                 10          SO45467                     1              1   \n",
       "1324                  6          SO45468                     1              1   \n",
       "1325                  6          SO45469                     1              1   \n",
       "1326                  6          SO45470                     1              1   \n",
       "1327                  1          SO45471                     1              1   \n",
       "...                 ...              ...                   ...            ...   \n",
       "4201                  9          SO49438                     1              1   \n",
       "4202                  9          SO49439                     1              1   \n",
       "4203                  9          SO49440                     1              1   \n",
       "4204                  4          SO49441                     1              1   \n",
       "4205                  4          SO49442                     1              1   \n",
       "\n",
       "                UnitPrice     TotalProductCost          SalesAmount  \\\n",
       "1323             3,399.99             1,912.15             3,399.99   \n",
       "1324             3,578.27             2,171.29             3,578.27   \n",
       "1325             3,374.99             1,898.09             3,374.99   \n",
       "1326             3,578.27             2,171.29             3,578.27   \n",
       "1327             3,578.27             2,171.29             3,578.27   \n",
       "...                   ...                  ...                  ...   \n",
       "4201             2,071.42             1,117.86             2,071.42   \n",
       "4202             2,071.42             1,117.86             2,071.42   \n",
       "4203             2,049.10             1,105.81             2,049.10   \n",
       "4204             2,049.10             1,105.81             2,049.10   \n",
       "4205               782.99               486.71               782.99   \n",
       "\n",
       "                   TaxAmt               profit  ShipTime  \n",
       "1323               272.00             1,487.84        10  \n",
       "1324               286.26             1,406.98        10  \n",
       "1325               270.00             1,476.90        10  \n",
       "1326               286.26             1,406.98        10  \n",
       "1327               286.26             1,406.98        10  \n",
       "...                   ...                  ...       ...  \n",
       "4201               165.71               953.56        10  \n",
       "4202               165.71               953.56        10  \n",
       "4203               163.93               943.29        10  \n",
       "4204               163.93               943.29        10  \n",
       "4205                62.64               296.28        10  \n",
       "\n",
       "[107 rows x 15 columns]"
      ]
     },
     "execution_count": 69,
     "metadata": {},
     "output_type": "execute_result"
    }
   ],
   "source": [
    "#Identificando outlier\n",
    "df[df[\"ShipTime\"] == 10]"
   ]
  },
  {
   "cell_type": "code",
   "execution_count": 70,
   "metadata": {
    "executionInfo": {
     "elapsed": 1462,
     "status": "ok",
     "timestamp": 1672136564468,
     "user": {
      "displayName": "Gilberto Uehara",
      "userId": "11139280861294473555"
     },
     "user_tz": 180
    },
    "id": "zO-OEFgQGGGm"
   },
   "outputs": [],
   "source": [
    "df.to_csv(\"df_vendas_novo.csv\", index=False)"
   ]
  },
  {
   "cell_type": "code",
   "execution_count": null,
   "metadata": {
    "id": "-LEyjy-AGxbZ"
   },
   "outputs": [],
   "source": []
  }
 ],
 "metadata": {
  "colab": {
   "authorship_tag": "ABX9TyOGxB43Q2pSVOcG9/bHVcSV",
   "mount_file_id": "1CBUdW3HAISfuLdKRXjKs40_VgXY7eEcW",
   "provenance": []
  },
  "kernelspec": {
   "display_name": "Python 3 (ipykernel)",
   "language": "python",
   "name": "python3"
  },
  "language_info": {
   "codemirror_mode": {
    "name": "ipython",
    "version": 3
   },
   "file_extension": ".py",
   "mimetype": "text/x-python",
   "name": "python",
   "nbconvert_exporter": "python",
   "pygments_lexer": "ipython3",
   "version": "3.10.9"
  }
 },
 "nbformat": 4,
 "nbformat_minor": 1
}
